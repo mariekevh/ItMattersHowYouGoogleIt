{
 "cells": [
  {
   "cell_type": "markdown",
   "id": "2e23af7b-eed0-45de-9f25-d1ff28813115",
   "metadata": {},
   "source": [
    "# Data analysis "
   ]
  },
  {
   "cell_type": "code",
   "execution_count": null,
   "id": "0f75d908-eeb2-4f54-b66d-3851de30d1aa",
   "metadata": {},
   "outputs": [],
   "source": [
    "import pandas as pd\n",
    "import numpy as np\n",
    "from itertools import combinations"
   ]
  },
  {
   "cell_type": "code",
   "execution_count": null,
   "id": "a315739b-03c7-445e-ac17-6d21fc07010c",
   "metadata": {},
   "outputs": [],
   "source": [
    "pd.set_option('display.max_columns', None)\n",
    "import seaborn as sns\n",
    "import matplotlib.pyplot as plt\n",
    "from matplotlib import cm\n",
    "#plt.set_loglevel(level = 'warning')\n",
    "cmap = cm.get_cmap(\"coolwarm\").copy()\n",
    "#cmap.set_bad('lightgrey')  # Set NaN values to grey"
   ]
  },
  {
   "cell_type": "code",
   "execution_count": null,
   "id": "2e592796-8cca-4a4d-816a-6f2e0b372152",
   "metadata": {},
   "outputs": [],
   "source": [
    "PATH = \"climate/backup/\"\n",
    "out_path = \"climate/\""
   ]
  },
  {
   "cell_type": "code",
   "execution_count": null,
   "id": "fa9fea14-619d-4bb3-8f0a-7bd32d0bf953",
   "metadata": {},
   "outputs": [],
   "source": [
    "results = pd.read_csv(out_path+\"result_data_test.csv\")\n",
    "results.shape"
   ]
  },
  {
   "cell_type": "code",
   "execution_count": null,
   "id": "c9840ca8-f953-43a1-849b-e3db2ec08549",
   "metadata": {},
   "outputs": [],
   "source": [
    "html = pd.read_csv(out_path+\"html_test.csv\")\n",
    "html.shape"
   ]
  },
  {
   "cell_type": "code",
   "execution_count": null,
   "id": "0184aa5d-9d0d-421a-9529-5b7269dbc102",
   "metadata": {},
   "outputs": [],
   "source": [
    "# Select only round 1 for analysis\n",
    "results = pd.merge(results, html[[\"run_uid\", \"round_num\", \"test_num\", \"search_history\", \"user_input\", \"train_test\"]], on=\"run_uid\", how='left')\n",
    "results = results[(results.round_num==1)]"
   ]
  },
  {
   "cell_type": "code",
   "execution_count": null,
   "id": "3d1a2cc7-c52b-4418-bc55-42b0581fa3f0",
   "metadata": {},
   "outputs": [],
   "source": [
    "results.shape"
   ]
  },
  {
   "cell_type": "code",
   "execution_count": null,
   "id": "f36b8965-3a66-449d-9b6e-e13e8d404997",
   "metadata": {},
   "outputs": [],
   "source": [
    "# set this in the cc/im_dataprep scripts.\n",
    "results.loc[(results['domain']=='wikipedia.org'), 'final_category'] = 'bg_info'"
   ]
  },
  {
   "cell_type": "code",
   "execution_count": null,
   "id": "6a046796-2a95-47d5-9b0f-d21fcd86756b",
   "metadata": {},
   "outputs": [],
   "source": [
    "results[~results.domain.isna()].final_category.value_counts(dropna=False, normalize=True)"
   ]
  },
  {
   "cell_type": "markdown",
   "id": "a2f4c690-8874-4281-b7e3-bd96d4b8af84",
   "metadata": {},
   "source": [
    "### Source similarities\n",
    "\n",
    "- For these analyses, we exclude rows that do not contain sources, i.e. people also ask, searches related, images, unknown\n",
    "- Also exclude all rows with missing domains. \n",
    "\n",
    "Source similarities between all possible combinations of SERPs are calculated using calculate_source_sim.py"
   ]
  },
  {
   "cell_type": "code",
   "execution_count": null,
   "id": "28acc33f-5b7e-44b6-abc3-14a006e3028d",
   "metadata": {},
   "outputs": [],
   "source": [
    "results[(results.domain.isna())].type.value_counts(dropna=False)"
   ]
  },
  {
   "cell_type": "code",
   "execution_count": null,
   "id": "3c70266a-4ed7-4083-818d-5023b3c3aaa4",
   "metadata": {},
   "outputs": [],
   "source": [
    "results_sim = results[(~results.domain.isna())].copy()\n",
    "results.shape, results_sim.shape"
   ]
  },
  {
   "cell_type": "code",
   "execution_count": null,
   "id": "6f6559ef-01f4-4b0a-8c68-ee653b624166",
   "metadata": {},
   "outputs": [],
   "source": [
    "results_sim.to_csv(out_path+\"cc_results_r1.csv\", index=False)"
   ]
  },
  {
   "cell_type": "code",
   "execution_count": null,
   "id": "ae1f7106-769c-4179-b610-1fe0777cefcb",
   "metadata": {},
   "outputs": [],
   "source": [
    "# number of combinations for content and source similarities each\n",
    "print('Number of combinations', sum(1 for _ in combinations(results_sim['run_uid'].unique(), 2)))"
   ]
  },
  {
   "cell_type": "markdown",
   "id": "af5e4348-ad0f-4896-9098-8a592faffcc1",
   "metadata": {},
   "source": [
    "### Content similarities\n",
    "\n",
    "- General: Text, if missing Title (incl. submenu items)\n",
    "- knowledge_panel_rhs: text \n",
    "- knowledge_featured_snippet: text \n",
    "- ad: text\n",
    "- twitter_cards: text\n",
    "- top_stories: title\n",
    "- local_results: title (=name of location)\n",
    "- videos: title\n",
    "- people_also_ask: text\n",
    "- searches_related: text\n",
    "- scholarly_articles : title\n",
    "- Components that do not contain any text are excluded, i.e. images, unknown, as well as rows that do not contain text or title\n",
    "\n",
    "Content similarities calculated via calculate_content_sim.py"
   ]
  },
  {
   "cell_type": "code",
   "execution_count": null,
   "id": "1d84d8eb-c891-4e6d-b71d-a89ac92b7646",
   "metadata": {},
   "outputs": [],
   "source": [
    "excl_cols = [\"images\", \"unknown\"]\n",
    "text_cols = [\"knowledge_panel_rhs\", \"knowledge_featured_snippet\", \"ad\", \"twitter_cards\", \"people_also_ask\", \"searches_related\", \"general\"]\n",
    "title_cols = [\"top_stories\", \"local_results\", \"videos\", \"scholarly_articles\"]"
   ]
  },
  {
   "cell_type": "code",
   "execution_count": null,
   "id": "7522964a-f447-4840-9497-a98321a0ba5c",
   "metadata": {},
   "outputs": [],
   "source": [
    "results_cont = results.copy()\n",
    "# exclude these comp types\n",
    "results_cont = results_cont[~results_cont.type.isin(excl_cols)]\n",
    "# text is text column\n",
    "results_cont.loc[results_cont.type.isin(text_cols), \"text_for_sim\"] = results_cont['text']\n",
    "# text is title column\n",
    "results_cont.loc[results_cont.type.isin(title_cols), \"text_for_sim\"] = results_cont['title']\n",
    "# if text missing,substitute with title\n",
    "results_cont.loc[results_cont.text_for_sim.isna(), \"text_for_sim\"] = results_cont['title']\n",
    "# remove rows with missings\n",
    "results_cont = results_cont[~results_cont.text_for_sim.isna()]\n",
    "results.shape, results_cont.shape"
   ]
  },
  {
   "cell_type": "code",
   "execution_count": null,
   "id": "aff7faa9-8476-4e6a-aaef-625d364b9318",
   "metadata": {},
   "outputs": [],
   "source": [
    "results_cont.to_csv(out_path+\"cc_results_cont_r1.csv\", index=False)"
   ]
  },
  {
   "cell_type": "code",
   "execution_count": null,
   "id": "b9902806-d881-4d2c-8183-c3a9837f8d10",
   "metadata": {},
   "outputs": [],
   "source": [
    "# number of combinations for content and source similarities each\n",
    "print('Number of combinations', sum(1 for _ in combinations(results_cont['run_uid'].unique(), 2)))"
   ]
  },
  {
   "cell_type": "markdown",
   "id": "21c233ad-5c52-413d-871b-1577e76ec3fc",
   "metadata": {},
   "source": [
    "### Descriptive statistics"
   ]
  },
  {
   "cell_type": "code",
   "execution_count": null,
   "id": "d5124d58-63b8-497f-8f9d-4923a59f1228",
   "metadata": {},
   "outputs": [],
   "source": [
    "# without search history\n",
    "results_nh = results_sim.copy()\n",
    "results_nh = results_nh[results_nh['search_history']=='none']\n",
    "results_nh.shape, results_nh.run_uid.nunique()"
   ]
  },
  {
   "cell_type": "code",
   "execution_count": null,
   "id": "8f24c9e1-2044-4aff-8ef3-dc9ca0d34c1c",
   "metadata": {},
   "outputs": [],
   "source": [
    "# make sure all go from 0 to X. \n",
    "rhs_panels_ids = results_nh[results_nh.type=='knowledge_panel_rhs'].run_uid.unique()\n",
    "results_nh.loc[(results_nh['run_uid'].isin(rhs_panels_ids)), \"cmpt_rank\"] = results_nh['cmpt_rank'] + 1"
   ]
  },
  {
   "cell_type": "code",
   "execution_count": null,
   "id": "577fbb50-ee1f-4014-bd98-4c8514c3c946",
   "metadata": {},
   "outputs": [],
   "source": [
    "# weights\n",
    "results_nh['weight'] = 1 / (results_nh['cmpt_rank'] + 1)\n",
    "results_nh[['run_uid','cmpt_rank', 'weight']]"
   ]
  },
  {
   "cell_type": "code",
   "execution_count": null,
   "id": "ff123b97-f4b0-4b57-8fd9-89129292e0d1",
   "metadata": {},
   "outputs": [],
   "source": [
    "weighted_frequencies = results_nh.groupby('final_category')['weight'].sum()\n",
    "normalized_frequencies = (weighted_frequencies / weighted_frequencies.sum())#* 100\n",
    "normalized_frequencies"
   ]
  },
  {
   "cell_type": "code",
   "execution_count": null,
   "id": "d7b1dfc1-d580-486e-b4f4-2851237200dd",
   "metadata": {},
   "outputs": [],
   "source": [
    "#results_nh.final_category.value_counts(dropna=False)\n",
    "results_nh.final_category.value_counts(dropna=False) / len(results_nh)"
   ]
  },
  {
   "cell_type": "markdown",
   "id": "04b585ea-5528-422d-9bb5-9e0d7f7411af",
   "metadata": {},
   "source": [
    "### Top information sources"
   ]
  },
  {
   "cell_type": "code",
   "execution_count": null,
   "id": "744ee684-0cb0-46e4-bb16-1df50c9a7cfd",
   "metadata": {},
   "outputs": [],
   "source": [
    "freq = results_nh.groupby('user_input')['domain'].value_counts(normalize=True).reset_index(name='freq')\n",
    "# weighted frequencies\n",
    "w_freq = results_nh.groupby(['user_input', 'domain'])['weight'].sum()\n",
    "norm_freq = (w_freq / w_freq.groupby('user_input').sum()).reset_index(name='w_freq')\n",
    "freqs = pd.merge(freq, norm_freq, how='left', on=['user_input', 'domain']).sort_values(['user_input', 'w_freq'], ascending=False)\n",
    "top_rows = freqs.groupby('user_input').apply(lambda x: x.nlargest(10, 'w_freq')).reset_index(drop=True).round(2)\n",
    "top_rows = pd.merge(top_rows, results_nh[['domain', 'final_category']].drop_duplicates(), how='left', on='domain')\n",
    "top_rows.to_latex(out_path+\"tables/cc_top10_domains.txt\")\n",
    "top_rows"
   ]
  },
  {
   "cell_type": "code",
   "execution_count": null,
   "id": "23cc611b-0c6a-467d-99a9-a8a9d301a0db",
   "metadata": {},
   "outputs": [],
   "source": [
    "# Interpretation: Top 10 most frequent information sources of search results offered to user choice condition."
   ]
  },
  {
   "cell_type": "markdown",
   "id": "0e8f6924-e4b7-41aa-8221-ba11b703c366",
   "metadata": {},
   "source": [
    "### Type of information sources"
   ]
  },
  {
   "cell_type": "code",
   "execution_count": null,
   "id": "a771b340-027a-4285-bfa9-43812e83d60f",
   "metadata": {},
   "outputs": [],
   "source": [
    "# Frequencies\n",
    "freq = results_nh.groupby('user_input')['final_category'].value_counts(normalize=True).reset_index(name='freq')\n",
    "# weighted frequencies\n",
    "w_freq = results_nh.groupby(['user_input', 'final_category'])['weight'].sum()\n",
    "norm_freq = (w_freq / w_freq.groupby('user_input').sum()).reset_index(name='w_freq')\n",
    "freqs = pd.merge(freq, norm_freq, how='left', on=['user_input', 'final_category']).sort_values(['user_input', 'w_freq'], ascending=False)\n",
    "freqs"
   ]
  },
  {
   "cell_type": "code",
   "execution_count": null,
   "id": "b2396a9b-82d6-4bc8-bd9e-df5a52d2eb20",
   "metadata": {},
   "outputs": [],
   "source": [
    "# figure\n",
    "new_column_names = {\n",
    "    'inst': 'news',\n",
    "    'bg_info': 'background information',\n",
    "    'gateway': 'gateway',\n",
    "    'not_news': 'other'\n",
    "}"
   ]
  },
  {
   "cell_type": "code",
   "execution_count": null,
   "id": "ab440f7a-74f1-4ba2-b380-f5d94ba99384",
   "metadata": {},
   "outputs": [],
   "source": [
    "order = [\"low\", \"neutral\", \"high\"]"
   ]
  },
  {
   "cell_type": "code",
   "execution_count": null,
   "id": "8f03c4bc-05d7-4681-8810-cae3aea449e0",
   "metadata": {},
   "outputs": [],
   "source": [
    "pivot = freqs.pivot(index='user_input', columns='final_category', values='freq')#.round(2)\n",
    "pivot = pivot.rename(columns=new_column_names)\n",
    "pivot = pivot.reindex(order)\n",
    "w_pivot = freqs.pivot(index='user_input', columns='final_category', values='w_freq')#.round(2)\n",
    "w_pivot = w_pivot.rename(columns=new_column_names)\n",
    "w_pivot = w_pivot.reindex(order)\n",
    "print(pivot)"
   ]
  },
  {
   "cell_type": "code",
   "execution_count": null,
   "id": "a515a9b6-dad2-4dae-874f-6ba4cfb3b39d",
   "metadata": {},
   "outputs": [],
   "source": [
    "# Assuming you have already defined 'w_pivot'\n",
    "fig, ax = plt.subplots(figsize=(10, 4))\n",
    "\n",
    "# Plotting only 'w_pivot'\n",
    "plot = w_pivot.plot(kind='barh', stacked=True, ax=ax, width=0.8, position=0.5, legend=False)\n",
    "\n",
    "# Customize appearance\n",
    "#ax.legend(title='Information source types', bbox_to_anchor=(1.05, 1), loc='upper center')#loc='upper left')\n",
    "ax.legend(title='Information source types', bbox_to_anchor=(0.5, -0.25), loc='upper center', ncol=4)\n",
    "\n",
    "ax.set_xlim(right=1.0)\n",
    "ax.set_ylim(bottom=-0.5)\n",
    "\n",
    "for container in plot.containers:\n",
    "    for i, value in enumerate(container.datavalues):\n",
    "        if value.round(2) > 0:\n",
    "            ax.bar_label(container, label_type='center', fontsize=12, color='black', fmt='%.2f', labels=[f'{value.round(2)}' if value.round(2) > 0 else '' for value in container.datavalues])\n",
    "\n",
    "ax.tick_params(axis='y',labelsize=12)\n",
    "ax.tick_params(axis='x',labelsize=12)\n",
    "ax.set_ylabel('User choice', fontsize=12)\n",
    "ax.set_xlabel('Frequency', fontsize=12)\n",
    "\n",
    "fig.tight_layout(pad=2.0)\n",
    "plt.savefig(out_path + 'figures/cc_typesource_barh.eps', format='eps', bbox_inches='tight')\n",
    "plt.show()\n"
   ]
  },
  {
   "cell_type": "markdown",
   "id": "e01600c5-cbbe-4b89-a2cf-8fdea5ef10e0",
   "metadata": {},
   "source": [
    "### Frequency of component types"
   ]
  },
  {
   "cell_type": "code",
   "execution_count": null,
   "id": "e7b02ac5-8f1b-4913-8e70-891b3d7d9396",
   "metadata": {},
   "outputs": [],
   "source": [
    "results_cmpts = results.copy()\n",
    "# all cmpts only one row\n",
    "results_cmpts = results_cmpts.drop_duplicates([\"run_uid\", \"cmpt_rank\"], keep='first')\n",
    "# only without search history\n",
    "results_cmpts = results_cmpts[results_cmpts.search_history=='none']\n",
    "results_cmpts.shape"
   ]
  },
  {
   "cell_type": "code",
   "execution_count": null,
   "id": "725beba2-bb3d-4c53-802e-37d6bfdcfe61",
   "metadata": {},
   "outputs": [],
   "source": [
    "# make sure all go from 0 to X. \n",
    "rhs_panels_ids = results_cmpts[results_cmpts.type=='knowledge_panel_rhs'].run_uid.unique()\n",
    "results_cmpts.loc[(results_cmpts['run_uid'].isin(rhs_panels_ids)), \"cmpt_rank\"] = results_cmpts['cmpt_rank'] + 1"
   ]
  },
  {
   "cell_type": "code",
   "execution_count": null,
   "id": "c1629db5-bdaa-4142-a074-8c58f891020b",
   "metadata": {},
   "outputs": [],
   "source": [
    "results_cmpts['weight'] = 1 / (results_cmpts['cmpt_rank'] + 1)\n",
    "results_cmpts[['run_uid','cmpt_rank', 'weight']]"
   ]
  },
  {
   "cell_type": "code",
   "execution_count": null,
   "id": "4448da27-5d53-42c9-b959-8ec384d4f682",
   "metadata": {},
   "outputs": [],
   "source": [
    "# display of components (0/1) (dummies)\n",
    "dummy_df = pd.get_dummies(results_cmpts[['type', 'run_uid']], columns=['type']).astype(int)\n",
    "grouped = dummy_df.groupby('run_uid').sum().astype(int)\n",
    "components = grouped.applymap(lambda x: 1 if x >= 1 else 0).reset_index()\n",
    "components.shape"
   ]
  },
  {
   "cell_type": "code",
   "execution_count": null,
   "id": "94bccf4b-8b8c-4726-ad42-401a71a98e23",
   "metadata": {},
   "outputs": [],
   "source": [
    "components = pd.merge(components, results_cmpts.drop_duplicates('run_uid')[['run_uid', 'user_input']], on='run_uid', how='left')\n",
    "components.shape"
   ]
  },
  {
   "cell_type": "code",
   "execution_count": null,
   "id": "b0153076-2091-457c-b5d1-eb2d8b588c17",
   "metadata": {},
   "outputs": [],
   "source": [
    "features = [c for c in components.columns if c.startswith('type')]\n",
    "#features"
   ]
  },
  {
   "cell_type": "code",
   "execution_count": null,
   "id": "422fdb88-390d-44b1-aace-2f4884f7d7a3",
   "metadata": {},
   "outputs": [],
   "source": [
    "freqs = components.groupby('user_input')[features].mean()\n",
    "freqs"
   ]
  },
  {
   "cell_type": "code",
   "execution_count": null,
   "id": "aa114374-d228-428c-9685-faae99ff2d27",
   "metadata": {},
   "outputs": [],
   "source": [
    "## Add scholarly articles for immigration\n",
    "\n",
    "# Define custom order and new names for columns\n",
    "custom_order = ['type_knowledge_panel_rhs', 'type_local_results', 'type_top_stories', 'type_twitter_cards', 'type_videos', 'type_knowledge_featured_snippet', 'type_searches_related', 'type_images', 'type_ad', 'type_people_also_ask', 'type_general']\n",
    "column_rename_dict = {'type_knowledge_panel_rhs':'Knowledge Panel', 'type_local_results':'Local results', 'type_top_stories':'Top stories', \n",
    "                'type_twitter_cards':'Twitter', 'type_videos':'Videos', 'type_knowledge_featured_snippet':'Featured snippet',\n",
    "                'type_scholarly_articles':'Scholarly articles', 'type_searches_related':'Related searches', \n",
    "                'type_images':'Images', 'type_ad':'Advertisements', 'type_people_also_ask':'People also ask', 'type_general':'General'}"
   ]
  },
  {
   "cell_type": "code",
   "execution_count": null,
   "id": "14b31f4b-9506-4e31-a04a-a863a30fb90a",
   "metadata": {},
   "outputs": [],
   "source": [
    "freqs = freqs.reindex(index=[\"high\", \"neutral\", \"low\"], columns=custom_order)\n",
    "freqs = freqs.rename(columns=column_rename_dict)\n",
    "freqs"
   ]
  },
  {
   "cell_type": "code",
   "execution_count": null,
   "id": "8c39d1ba-d40a-45ff-87b4-30e8620361b6",
   "metadata": {},
   "outputs": [],
   "source": [
    "freqs.T.round(2).to_latex(out_path+\"tables/cc_freq_type_userinput.txt\")"
   ]
  },
  {
   "cell_type": "code",
   "execution_count": null,
   "id": "df486dd7-703e-4d4f-b9d5-71edc53da53e",
   "metadata": {},
   "outputs": [],
   "source": [
    "select_features = [\"Knowledge Panel\", \"Local results\", \"Top stories\", \"Twitter\", \"Videos\", \"Featured snippet\"]\n",
    "freqs = freqs[select_features]"
   ]
  },
  {
   "cell_type": "code",
   "execution_count": null,
   "id": "55a293a9-d003-4019-b336-214630d26f44",
   "metadata": {},
   "outputs": [],
   "source": [
    "plt.figure(figsize=(6, 3))\n",
    "\n",
    "sns.heatmap(freqs, cmap=cmap, cbar=True, annot=True, fmt='.2f', annot_kws={\"size\":12}, cbar_kws={'pad': 0.02}, vmax=1)\n",
    "plt.yticks(va=\"center\")\n",
    "plt.ylabel('User choice', fontsize=12)\n",
    "plt.tick_params(axis='y', labelsize=12)\n",
    "plt.xticks(rotation=45, ha=\"right\", fontsize=12)\n",
    "plt.savefig(out_path+'figures/cc_type_heatmap.eps', format='eps', bbox_inches='tight')\n",
    "plt.show()\n"
   ]
  }
 ],
 "metadata": {
  "kernelspec": {
   "display_name": "Python 3 (ipykernel)",
   "language": "python",
   "name": "python3"
  },
  "language_info": {
   "codemirror_mode": {
    "name": "ipython",
    "version": 3
   },
   "file_extension": ".py",
   "mimetype": "text/x-python",
   "name": "python",
   "nbconvert_exporter": "python",
   "pygments_lexer": "ipython3",
   "version": "3.9.5"
  }
 },
 "nbformat": 4,
 "nbformat_minor": 5
}
