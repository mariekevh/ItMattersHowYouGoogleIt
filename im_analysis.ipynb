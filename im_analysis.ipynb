{
 "cells": [
  {
   "cell_type": "markdown",
   "id": "4abbaa04-8a42-4698-b7b5-2a2a313bdf6a",
   "metadata": {},
   "source": [
    "# Data analysis"
   ]
  },
  {
   "cell_type": "code",
   "execution_count": null,
   "id": "0f75d908-eeb2-4f54-b66d-3851de30d1aa",
   "metadata": {},
   "outputs": [],
   "source": [
    "import pandas as pd\n",
    "import numpy as np\n",
    "from itertools import combinations"
   ]
  },
  {
   "cell_type": "code",
   "execution_count": null,
   "id": "a315739b-03c7-445e-ac17-6d21fc07010c",
   "metadata": {},
   "outputs": [],
   "source": [
    "pd.set_option('display.max_columns', None)\n",
    "import seaborn as sns\n",
    "import matplotlib.pyplot as plt\n",
    "from matplotlib import cm\n",
    "#plt.set_loglevel(level = 'warning')\n",
    "cmap = cm.get_cmap(\"coolwarm\").copy()\n",
    "#cmap.set_bad('lightgrey')  # Set NaN values to grey"
   ]
  },
  {
   "cell_type": "code",
   "execution_count": null,
   "id": "2e592796-8cca-4a4d-816a-6f2e0b372152",
   "metadata": {},
   "outputs": [],
   "source": [
    "PATH = \"immigration/backup/\"\n",
    "out_path = \"immigration/\""
   ]
  },
  {
   "cell_type": "code",
   "execution_count": null,
   "id": "fa9fea14-619d-4bb3-8f0a-7bd32d0bf953",
   "metadata": {},
   "outputs": [],
   "source": [
    "results = pd.read_csv(out_path+\"result_data_test.csv\")\n",
    "results.shape"
   ]
  },
  {
   "cell_type": "code",
   "execution_count": null,
   "id": "c9840ca8-f953-43a1-849b-e3db2ec08549",
   "metadata": {},
   "outputs": [],
   "source": [
    "html = pd.read_csv(out_path+\"html_test.csv\")\n",
    "html.shape"
   ]
  },
  {
   "cell_type": "code",
   "execution_count": null,
   "id": "3a582223-1f47-49c4-8c91-589517ad9ea1",
   "metadata": {},
   "outputs": [],
   "source": [
    "# Select only round 1 for analysis\n",
    "results = pd.merge(results, html[[\"run_uid\", \"round_num\", \"test_num\", \"search_history\", \"user_input\", \"train_test\"]], on=\"run_uid\", how='left')\n",
    "results = results[(results.round_num==1)]"
   ]
  },
  {
   "cell_type": "code",
   "execution_count": null,
   "id": "b1cf4a1b-325e-4583-bb83-02a201274788",
   "metadata": {},
   "outputs": [],
   "source": [
    "results.shape"
   ]
  },
  {
   "cell_type": "code",
   "execution_count": null,
   "id": "f87c954a-e619-442f-a92c-67ee737abd55",
   "metadata": {},
   "outputs": [],
   "source": [
    "# set this in the cc/im_dataprep scripts.\n",
    "results.loc[(results['domain']=='wikipedia.org'), 'final_category'] = 'bg_info'"
   ]
  },
  {
   "cell_type": "code",
   "execution_count": null,
   "id": "7142538b-bbf5-4950-8056-2d02ef1fee04",
   "metadata": {},
   "outputs": [],
   "source": [
    "# 100% coverage\n",
    "results[~results.domain.isna()].final_category.value_counts(dropna=False, normalize=True)"
   ]
  },
  {
   "cell_type": "markdown",
   "id": "f0135c12-a0d8-46fa-b1f8-5b53dabd9dfc",
   "metadata": {},
   "source": [
    "### Source similarities\n",
    "\n",
    "- For these analyses, we exclude rows that do not contain sources, i.e. people also ask, searches related, images, unknown\n",
    "- Also exclude all rows with missing domains. \n",
    "\n",
    "Source similarities between all possible combinations of SERPs are calculated using calculate_source_sim.py\n"
   ]
  },
  {
   "cell_type": "code",
   "execution_count": null,
   "id": "a484e040-b025-49ac-8c0a-d12d53ddf97f",
   "metadata": {},
   "outputs": [],
   "source": [
    "results[(results.domain.isna())].type.value_counts(dropna=False)"
   ]
  },
  {
   "cell_type": "code",
   "execution_count": null,
   "id": "a8096189-7b36-4349-8a03-acb5279a735a",
   "metadata": {},
   "outputs": [],
   "source": [
    "results_sim = results[(~results.domain.isna())].copy()\n",
    "results.shape, results_sim.shape"
   ]
  },
  {
   "cell_type": "code",
   "execution_count": null,
   "id": "6f6559ef-01f4-4b0a-8c68-ee653b624166",
   "metadata": {},
   "outputs": [],
   "source": [
    "results_sim.to_csv(out_path+\"im_results_r1.csv\", index=False)"
   ]
  },
  {
   "cell_type": "code",
   "execution_count": null,
   "id": "ae1f7106-769c-4179-b610-1fe0777cefcb",
   "metadata": {},
   "outputs": [],
   "source": [
    "# number of combinations for content and source similarities each\n",
    "print('Number of combinations', sum(1 for _ in combinations(results_sim['run_uid'].unique(), 2)))"
   ]
  },
  {
   "cell_type": "markdown",
   "id": "8c1012e2-0ebc-4628-b6a8-38031c61a1ce",
   "metadata": {},
   "source": [
    "### Content similarities\n",
    "\n",
    "- General: Text, if missing Title (incl. submenu items)\n",
    "- knowledge_panel_rhs: text \n",
    "- knowledge_featured_snippet: text \n",
    "- ad: text\n",
    "- twitter_cards: text\n",
    "- top_stories: title\n",
    "- local_results: title (=name of location)\n",
    "- videos: title\n",
    "- people_also_ask: text\n",
    "- searches_related: text\n",
    "- scholarly_articles : title\n",
    "- Components that do not contain any text are excluded, i.e. images, unknown, as well as rows that do not contain text or title\n",
    "\n",
    "Content similarities calculated via calculate_content_sim.py"
   ]
  },
  {
   "cell_type": "code",
   "execution_count": null,
   "id": "4d3eb528-35f4-4fee-b6ef-00765dc092ee",
   "metadata": {},
   "outputs": [],
   "source": [
    "excl_cols = [\"images\", \"unknown\"]\n",
    "text_cols = [\"knowledge_panel_rhs\", \"knowledge_featured_snippet\", \"ad\", \"twitter_cards\", \"people_also_ask\", \"searches_related\", \"general\"]\n",
    "title_cols = [\"top_stories\", \"local_results\", \"videos\", \"scholarly_articles\"]"
   ]
  },
  {
   "cell_type": "code",
   "execution_count": null,
   "id": "61c9c7c4-aa22-4e0d-a59b-9bdeb2c69366",
   "metadata": {},
   "outputs": [],
   "source": [
    "results_cont = results.copy()\n",
    "# exclude these comp types\n",
    "results_cont = results_cont[~results_cont.type.isin(excl_cols)]\n",
    "# text is text column\n",
    "results_cont.loc[results_cont.type.isin(text_cols), \"text_for_sim\"] = results_cont['text']\n",
    "# text is title column\n",
    "results_cont.loc[results_cont.type.isin(title_cols), \"text_for_sim\"] = results_cont['title']\n",
    "# if text missing,substitute with title\n",
    "results_cont.loc[results_cont.text_for_sim.isna(), \"text_for_sim\"] = results_cont['title']\n",
    "# remove rows with missings\n",
    "results_cont = results_cont[~results_cont.text_for_sim.isna()]\n",
    "results.shape, results_cont.shape"
   ]
  },
  {
   "cell_type": "code",
   "execution_count": null,
   "id": "a262eae1-f249-4a9b-a950-add749808eaa",
   "metadata": {},
   "outputs": [],
   "source": [
    "results_cont.to_csv(out_path+\"im_results_cont_r1.csv\", index=False)"
   ]
  },
  {
   "cell_type": "code",
   "execution_count": null,
   "id": "20a1b0ca-e4d2-4260-a3c5-3c0cc4420733",
   "metadata": {},
   "outputs": [],
   "source": [
    "# number of combinations for content and source similarities each\n",
    "print('Number of combinations', sum(1 for _ in combinations(results_cont['run_uid'].unique(), 2)))"
   ]
  },
  {
   "cell_type": "markdown",
   "id": "09b88adc-391e-4214-89b5-816d8e70bc86",
   "metadata": {},
   "source": [
    "### Descriptive statistics"
   ]
  },
  {
   "cell_type": "code",
   "execution_count": null,
   "id": "253fa6cb-a3dd-4bbd-97b0-560874ff0649",
   "metadata": {},
   "outputs": [],
   "source": [
    "# without search history\n",
    "results_nh = results_sim.copy()\n",
    "results_nh = results_nh[results_nh['search_history']=='none']\n",
    "results_nh.shape, results_nh.run_uid.nunique()"
   ]
  },
  {
   "cell_type": "code",
   "execution_count": null,
   "id": "8cb1ba7b-297d-4158-8cdf-09444a47705c",
   "metadata": {},
   "outputs": [],
   "source": [
    "# make sure all go from 0 to X. \n",
    "rhs_panels_ids = results_nh[results_nh.type=='knowledge_panel_rhs'].run_uid.unique()\n",
    "results_nh.loc[(results_nh['run_uid'].isin(rhs_panels_ids)), \"cmpt_rank\"] = results_nh['cmpt_rank'] + 1"
   ]
  },
  {
   "cell_type": "code",
   "execution_count": null,
   "id": "1660d9bb-385b-439d-9bfb-722be713965c",
   "metadata": {},
   "outputs": [],
   "source": [
    "# weights\n",
    "results_nh['weight'] = 1 / (results_nh['cmpt_rank'] + 1)\n",
    "results_nh[['run_uid','cmpt_rank', 'weight']]"
   ]
  },
  {
   "cell_type": "code",
   "execution_count": null,
   "id": "07b4d7c2-7d68-4b6e-85f4-3d24671cb824",
   "metadata": {},
   "outputs": [],
   "source": [
    "weighted_frequencies = results_nh.groupby('final_category')['weight'].sum()\n",
    "normalized_frequencies = (weighted_frequencies / weighted_frequencies.sum())#* 100\n",
    "normalized_frequencies"
   ]
  },
  {
   "cell_type": "code",
   "execution_count": null,
   "id": "56f8fd27-73a5-439b-9ee6-0423eb28092e",
   "metadata": {},
   "outputs": [],
   "source": [
    "#results_nh.final_category.value_counts(dropna=False)\n",
    "results_nh.final_category.value_counts(dropna=False) / len(results_nh)"
   ]
  },
  {
   "cell_type": "markdown",
   "id": "c53f4e18-2253-4fd9-b24e-38b1320e87a7",
   "metadata": {},
   "source": [
    "### Top information sources"
   ]
  },
  {
   "cell_type": "code",
   "execution_count": null,
   "id": "a61dfd4f-7cb7-41f3-918f-7bf80a76ec94",
   "metadata": {},
   "outputs": [],
   "source": [
    "top_10 = results_nh[results_nh.cmpt_rank<=3].copy()\n",
    "freq = results_nh.groupby('user_input')['domain'].value_counts(normalize=True).reset_index(name='freq')\n",
    "# weighted frequencies\n",
    "w_freq = results_nh.groupby(['user_input', 'domain'])['weight'].sum()\n",
    "norm_freq = (w_freq / w_freq.groupby('user_input').sum()).reset_index(name='w_freq')\n",
    "freqs = pd.merge(freq, norm_freq, how='left', on=['user_input', 'domain']).sort_values(['user_input', 'w_freq'], ascending=False)\n",
    "top_rows = freqs.groupby('user_input').apply(lambda x: x.nlargest(10, 'w_freq')).reset_index(drop=True).round(2)\n",
    "top_rows = pd.merge(top_rows, results_nh[['domain', 'final_category']].drop_duplicates(), how='left', on='domain')\n",
    "top_rows.to_latex(out_path+\"tables/im_top10_domains.txt\")\n",
    "top_rows"
   ]
  },
  {
   "cell_type": "code",
   "execution_count": null,
   "id": "f3e7dc5b-91ca-49bd-a885-7f8f965dc8ea",
   "metadata": {},
   "outputs": [],
   "source": [
    "# Interpretation: Top 10 most frequent information sources of search results offered to user choice condition."
   ]
  },
  {
   "cell_type": "code",
   "execution_count": null,
   "id": "fd552b1d-8ffb-411c-88bc-7956c1da2ad9",
   "metadata": {},
   "outputs": [],
   "source": [
    "## sources in common\n",
    "unique_domains_per_user_input = results_nh.groupby('user_input')['domain'].unique().reset_index()\n",
    "\n",
    "# Assuming you have two specific user_input categories, let's say 'A' and 'B'\n",
    "pro_domains = set(results_nh[results_nh['user_input'] == 'pro']['domain'].tolist())\n",
    "anti_domains = set(results_nh[results_nh['user_input'] == 'anti']['domain'].tolist())\n",
    "neutral_domains = set(results_nh[results_nh['user_input'] == 'neutral']['domain'].tolist())\n"
   ]
  },
  {
   "cell_type": "code",
   "execution_count": null,
   "id": "a77c9227-26f0-493e-83cc-8c40d41cb350",
   "metadata": {},
   "outputs": [],
   "source": [
    "print('pro-anti:', pro_domains.intersection(anti_domains))\n",
    "print('pro-neutral:', pro_domains.intersection(neutral_domains))\n",
    "print('neutral-anti:', neutral_domains.intersection(anti_domains))"
   ]
  },
  {
   "cell_type": "markdown",
   "id": "657d456b-4a08-48eb-935c-86315d8d2d72",
   "metadata": {},
   "source": [
    "### Type of information sources"
   ]
  },
  {
   "cell_type": "code",
   "execution_count": null,
   "id": "46179464-a144-4252-b3fb-4bf7cdd7b6d1",
   "metadata": {},
   "outputs": [],
   "source": [
    "# Frequencies\n",
    "freq = results_nh.groupby('user_input')['final_category'].value_counts(normalize=True).reset_index(name='freq')\n",
    "# weighted frequencies\n",
    "w_freq = results_nh.groupby(['user_input', 'final_category'])['weight'].sum()\n",
    "norm_freq = (w_freq / w_freq.groupby('user_input').sum()).reset_index(name='w_freq')\n",
    "freqs = pd.merge(freq, norm_freq, how='left', on=['user_input', 'final_category']).sort_values(['user_input', 'w_freq'], ascending=False)\n",
    "freqs"
   ]
  },
  {
   "cell_type": "code",
   "execution_count": null,
   "id": "6159e5bb-05dd-40ee-91b4-9aa2330c4f8d",
   "metadata": {},
   "outputs": [],
   "source": [
    "# figure\n",
    "new_column_names = {\n",
    "    'inst': 'news',\n",
    "    'bg_info': 'background information',\n",
    "    'gateway': 'gateway',\n",
    "    'not_news': 'other'\n",
    "}"
   ]
  },
  {
   "cell_type": "code",
   "execution_count": null,
   "id": "fd91f483-c9cc-4147-9e80-942f9c4953f4",
   "metadata": {},
   "outputs": [],
   "source": [
    "order = [\"anti\", \"neutral\", \"pro\"]"
   ]
  },
  {
   "cell_type": "code",
   "execution_count": null,
   "id": "21a7237c-06f2-4b6f-9fed-e1f7d14379f4",
   "metadata": {},
   "outputs": [],
   "source": [
    "pivot = freqs.pivot(index='user_input', columns='final_category', values='freq')#.round(2)\n",
    "pivot = pivot.rename(columns=new_column_names)\n",
    "pivot = pivot.reindex(order)\n",
    "w_pivot = freqs.pivot(index='user_input', columns='final_category', values='w_freq')#.round(2)\n",
    "w_pivot = w_pivot.rename(columns=new_column_names)\n",
    "w_pivot = w_pivot.reindex(order)\n",
    "print(pivot)"
   ]
  },
  {
   "cell_type": "code",
   "execution_count": null,
   "id": "cb15a2c6-473d-4d63-b8c2-486ca6ed42db",
   "metadata": {},
   "outputs": [],
   "source": [
    "#fig, ax = plt.subplots(figsize=(15, 8))\n",
    "#\n",
    "#pivot.plot(kind='barh', stacked=True, figsize=(10,4), width=0.4, ax=ax, position=-0.05, legend=True)\n",
    "#\n",
    "#w_pivot.plot(kind='barh', stacked=True, figsize=(10,4), width=0.4, ax=ax, position=1.05, legend=False, alpha=0.7)\n",
    "#ax.legend(title='Information source types', bbox_to_anchor=(1.05, 1), loc='upper left')\n",
    "#\n",
    "#\n",
    "#ax.set_xlim(right=1.0)\n",
    "#ax.set_ylim(bottom=-0.5, top=len(pivot.index)-0.5)  \n",
    "#\n",
    "#for container in ax.containers:\n",
    "#    #print(container)\n",
    "#    ax.bar_label(container, label_type='center', fontsize=8, color='black', fmt='%.2f')\n",
    "#\n",
    "## Add labels at the beginning of each bar\n",
    "#for i, user_choice in enumerate(pivot.index):\n",
    "#    ax.text(-0.1, (i + 0.2), 'freq', fontsize=10, color='black', ha='center', va='center')\n",
    "#    ax.text(-0.1, (i - 0.2), 'freq-w', fontsize=10, color='black', ha='center', va='center')\n",
    "#\n",
    "#    \n",
    "#ax.set_ylabel('User choice')\n",
    "#ax.set_xlabel('Frequency')\n",
    "#fig.tight_layout(pad=2.0)\n",
    "#plt.savefig(out_path+'figures/im_typesource_barh.eps', format='eps', bbox_inches='tight')\n",
    "#plt.show()"
   ]
  },
  {
   "cell_type": "code",
   "execution_count": null,
   "id": "111982b7-7516-47b8-b7f0-8adf9823e332",
   "metadata": {},
   "outputs": [],
   "source": [
    "# Assuming you have already defined 'w_pivot'\n",
    "fig, ax = plt.subplots(figsize=(10, 3.1))\n",
    "\n",
    "# Plotting only 'w_pivot'\n",
    "plot = w_pivot.plot(kind='barh', stacked=True, ax=ax, width=0.8, position=0.5, legend=False)\n",
    "\n",
    "# Customize appearance\n",
    "#ax.legend(title='Information source types', bbox_to_anchor=(1.05, 1), loc='upper left')\n",
    "\n",
    "ax.set_xlim(right=1.0)\n",
    "ax.set_ylim(bottom=-0.5)\n",
    "\n",
    "for container in plot.containers:\n",
    "    for i, value in enumerate(container.datavalues):\n",
    "        if value.round(2) > 0:\n",
    "            ax.bar_label(container, label_type='center', fontsize=12, color='black', fmt='%.2f', labels=[f'{value.round(2)}' if value.round(2) > 0 else '' for value in container.datavalues])\n",
    "\n",
    "ax.tick_params(axis='y',labelsize=12)\n",
    "ax.tick_params(axis='x',labelsize=12)\n",
    "ax.set_ylabel('User choice', fontsize=12)\n",
    "ax.set_xlabel('Frequency', fontsize=12)\n",
    "\n",
    "fig.tight_layout(pad=2.0)\n",
    "plt.savefig(out_path + 'figures/im_typesource_barh.eps', format='eps', bbox_inches='tight')\n",
    "plt.show()\n"
   ]
  },
  {
   "cell_type": "code",
   "execution_count": null,
   "id": "88797a7f-7382-4ca4-a5c4-96ed99692148",
   "metadata": {},
   "outputs": [],
   "source": [
    "# interpretation: Share of search results within user condition that are background information website."
   ]
  },
  {
   "cell_type": "markdown",
   "id": "f29d53db-baa1-4418-bc66-f369abeef479",
   "metadata": {},
   "source": [
    "### Frequency of component types"
   ]
  },
  {
   "cell_type": "code",
   "execution_count": null,
   "id": "63e62e76-6ac6-4dcd-842f-ed576b78ab35",
   "metadata": {},
   "outputs": [],
   "source": [
    "results_cmpts = results.copy()\n",
    "# all cmpts only one row\n",
    "results_cmpts = results_cmpts.drop_duplicates([\"run_uid\", \"cmpt_rank\"], keep='first')\n",
    "# only without search history\n",
    "results_cmpts = results_cmpts[results_cmpts.search_history=='none']\n",
    "results_cmpts.shape"
   ]
  },
  {
   "cell_type": "code",
   "execution_count": null,
   "id": "0056ad06-9bcd-48b0-a451-9849dece60d4",
   "metadata": {},
   "outputs": [],
   "source": [
    "# make sure all go from 0 to X. \n",
    "rhs_panels_ids = results_cmpts[results_cmpts.type=='knowledge_panel_rhs'].run_uid.unique()\n",
    "results_cmpts.loc[(results_cmpts['run_uid'].isin(rhs_panels_ids)), \"cmpt_rank\"] = results_cmpts['cmpt_rank'] + 1"
   ]
  },
  {
   "cell_type": "code",
   "execution_count": null,
   "id": "e6f3304e-3597-43f6-9952-09aa6ed7c1b6",
   "metadata": {},
   "outputs": [],
   "source": [
    "results_cmpts['weight'] = 1 / (results_cmpts['cmpt_rank'] + 1)\n",
    "results_cmpts[['run_uid','cmpt_rank', 'weight']]"
   ]
  },
  {
   "cell_type": "code",
   "execution_count": null,
   "id": "dd545e00-c9f3-4ea2-ac52-235d22626742",
   "metadata": {},
   "outputs": [],
   "source": [
    "# display of components (0/1) (dummies)\n",
    "dummy_df = pd.get_dummies(results_cmpts[['type', 'run_uid']], columns=['type']).astype(int)\n",
    "grouped = dummy_df.groupby('run_uid').sum().astype(int)\n",
    "components = grouped.applymap(lambda x: 1 if x >= 1 else 0).reset_index()\n",
    "components.shape"
   ]
  },
  {
   "cell_type": "code",
   "execution_count": null,
   "id": "40df8c61-acba-461d-b7d3-cb2d053f88eb",
   "metadata": {},
   "outputs": [],
   "source": [
    "components = pd.merge(components, results_cmpts.drop_duplicates('run_uid')[['run_uid', 'user_input']], on='run_uid', how='left')\n",
    "components.shape"
   ]
  },
  {
   "cell_type": "code",
   "execution_count": null,
   "id": "1f3d8056-f071-4580-94e5-131f77aa0490",
   "metadata": {},
   "outputs": [],
   "source": [
    "features = [c for c in components.columns if c.startswith('type')]\n",
    "#features"
   ]
  },
  {
   "cell_type": "code",
   "execution_count": null,
   "id": "692d5c22-5388-48d4-b1e2-def2e7728bc4",
   "metadata": {},
   "outputs": [],
   "source": [
    "freqs = components.groupby('user_input')[features].mean()\n",
    "freqs"
   ]
  },
  {
   "cell_type": "code",
   "execution_count": null,
   "id": "1d2bd82a-32a4-438e-830a-8cd4d990da37",
   "metadata": {},
   "outputs": [],
   "source": [
    "# Define custom order and new names for columns\n",
    "custom_order = ['type_knowledge_panel_rhs', 'type_local_results', 'type_top_stories', 'type_twitter_cards', 'type_videos', 'type_knowledge_featured_snippet',  'type_scholarly_articles', 'type_searches_related', 'type_images', 'type_ad', 'type_people_also_ask', 'type_general']\n",
    "column_rename_dict = {'type_knowledge_panel_rhs':'Knowledge Panel', 'type_local_results':'Local results', 'type_top_stories':'Top stories', \n",
    "                'type_twitter_cards':'Twitter', 'type_videos':'Videos', 'type_knowledge_featured_snippet':'Featured snippet',\n",
    "                'type_scholarly_articles':'Scholarly articles', 'type_searches_related':'Related searches', \n",
    "                'type_images':'Images', 'type_ad':'Advertisements', 'type_people_also_ask':'People also ask', 'type_general':'General'}"
   ]
  },
  {
   "cell_type": "code",
   "execution_count": null,
   "id": "a6fcdf4a-4b9e-4346-88bf-de2fc1bcddd1",
   "metadata": {},
   "outputs": [],
   "source": [
    "freqs = freqs.reindex(index=[\"pro\", \"neutral\", \"anti\"], columns=custom_order)\n",
    "freqs = freqs.rename(columns=column_rename_dict)\n",
    "freqs"
   ]
  },
  {
   "cell_type": "code",
   "execution_count": null,
   "id": "a54a104d-5188-4f72-89de-685bc91366bf",
   "metadata": {},
   "outputs": [],
   "source": [
    "freqs.T.round(2).to_latex(out_path+\"tables/im_freq_type_userinput.txt\")"
   ]
  },
  {
   "cell_type": "code",
   "execution_count": null,
   "id": "d9eb6709-013b-4179-b954-4406245dd91d",
   "metadata": {},
   "outputs": [],
   "source": [
    "select_features = [\"Knowledge Panel\", \"Local results\", \"Top stories\", \"Twitter\", \"Videos\", \"Featured snippet\"]\n",
    "freqs = freqs[select_features]"
   ]
  },
  {
   "cell_type": "code",
   "execution_count": null,
   "id": "85f4ec0d-d38b-4a4e-ad07-6650c601f56e",
   "metadata": {},
   "outputs": [],
   "source": [
    "plt.figure(figsize=(6, 3))\n",
    "\n",
    "sns.heatmap(freqs, cmap=cmap, cbar=True, annot=True, fmt='.2f', annot_kws={\"size\":12}, cbar_kws={'pad': 0.02}, vmax=1)\n",
    "#sns.heatmap(freqs, cmap=cmap, cbar=False, annot=True, fmt='.2f', vmax=1)\n",
    "plt.yticks(va=\"center\")\n",
    "plt.ylabel('User choice', fontsize=12)\n",
    "plt.tick_params(axis='y', labelsize=12)\n",
    "plt.xticks(rotation=45, ha=\"right\", fontsize=12)\n",
    "plt.savefig(out_path+'figures/im_type_heatmap.eps', format='eps', bbox_inches='tight')\n",
    "plt.show()\n"
   ]
  },
  {
   "cell_type": "code",
   "execution_count": null,
   "id": "adb506b1-c2de-4cef-ab84-f6f0bfaff40f",
   "metadata": {},
   "outputs": [],
   "source": [
    "# Interpretation: Share of SERPs that contain certain SERP feature."
   ]
  },
  {
   "cell_type": "code",
   "execution_count": null,
   "id": "7bad0ebc-deed-40ef-a6b0-cf122d73bec0",
   "metadata": {},
   "outputs": [],
   "source": [
    "results[results.type=='twitter_cards'].text.unique()"
   ]
  },
  {
   "cell_type": "code",
   "execution_count": null,
   "id": "3e885fd2-d8e2-4bd9-a256-5b02ea75d4ec",
   "metadata": {},
   "outputs": [],
   "source": [
    "print('anti', results[(results.type=='twitter_cards')&(results.user_input=='anti')].text.unique())#.values)\n",
    "print()\n",
    "print('neutral', results[(results.type=='twitter_cards')&(results.user_input=='neutral')].text.unique())"
   ]
  },
  {
   "cell_type": "code",
   "execution_count": null,
   "id": "d9cbdc1d-b702-45d9-8200-f35e71f9ef5c",
   "metadata": {},
   "outputs": [],
   "source": [
    "print('anti', results[(results.type=='twitter_cards')&(results.user_input=='anti')].title.unique())#.values)\n",
    "print()\n",
    "print('neutral', results[(results.type=='twitter_cards')&(results.user_input=='neutral')].title.unique())"
   ]
  },
  {
   "cell_type": "code",
   "execution_count": null,
   "id": "b128d832-dcf5-413c-9ae2-8d440d6d9a39",
   "metadata": {},
   "outputs": [],
   "source": [
    "results[results.type=='knowledge_featured_snippet'].domain.value_counts()"
   ]
  },
  {
   "cell_type": "code",
   "execution_count": null,
   "id": "33800b39-efce-427e-a7f1-430b6920963e",
   "metadata": {},
   "outputs": [],
   "source": []
  },
  {
   "cell_type": "markdown",
   "id": "7e9121ac-16e1-4438-8f05-1cfe2bef7ab2",
   "metadata": {},
   "source": [
    "# Graveyard!! "
   ]
  },
  {
   "cell_type": "code",
   "execution_count": null,
   "id": "ba5204ca-affd-4f0d-bbc1-8309c7b0268b",
   "metadata": {},
   "outputs": [],
   "source": []
  }
 ],
 "metadata": {
  "kernelspec": {
   "display_name": "Python 3 (ipykernel)",
   "language": "python",
   "name": "python3"
  },
  "language_info": {
   "codemirror_mode": {
    "name": "ipython",
    "version": 3
   },
   "file_extension": ".py",
   "mimetype": "text/x-python",
   "name": "python",
   "nbconvert_exporter": "python",
   "pygments_lexer": "ipython3",
   "version": "3.9.5"
  }
 },
 "nbformat": 4,
 "nbformat_minor": 5
}
