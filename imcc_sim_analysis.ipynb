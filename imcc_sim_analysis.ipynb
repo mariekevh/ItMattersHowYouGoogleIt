{
 "cells": [
  {
   "cell_type": "markdown",
   "id": "0dc2b567-c7e2-4960-9ece-f4696f4121f2",
   "metadata": {},
   "source": [
    "# (Dis)similarity analysis\n",
    "Analysis of the output of the pairwise similarity scores, IRBO and ICS."
   ]
  },
  {
   "cell_type": "code",
   "execution_count": null,
   "id": "0f75d908-eeb2-4f54-b66d-3851de30d1aa",
   "metadata": {},
   "outputs": [],
   "source": [
    "import pandas as pd\n",
    "import numpy as np"
   ]
  },
  {
   "cell_type": "code",
   "execution_count": null,
   "id": "a315739b-03c7-445e-ac17-6d21fc07010c",
   "metadata": {},
   "outputs": [],
   "source": [
    "pd.set_option('display.max_columns', None)\n",
    "import seaborn as sns\n",
    "import matplotlib.pyplot as plt\n",
    "from matplotlib import cm\n",
    "#plt.set_loglevel(level = 'warning')\n",
    "cmap = cm.get_cmap(\"coolwarm\").copy()\n",
    "#cmap.set_bad('lightgrey')  # Set NaN values to grey"
   ]
  },
  {
   "cell_type": "code",
   "execution_count": null,
   "id": "c9840ca8-f953-43a1-849b-e3db2ec08549",
   "metadata": {},
   "outputs": [],
   "source": [
    "im_html = pd.read_csv(\"immigration/html_test.csv\")\n",
    "cc_html = pd.read_csv(\"climate/html_test.csv\")\n",
    "print(im_html.shape, cc_html.shape)"
   ]
  },
  {
   "cell_type": "markdown",
   "id": "7d85530a-63c7-4ab7-a626-be49f3679283",
   "metadata": {},
   "source": [
    "## Source similarity\n",
    "Source similarities between all possible combinations of SERPs are calculated using calculate_source_sim.py"
   ]
  },
  {
   "cell_type": "code",
   "execution_count": null,
   "id": "bf6ecbdd-b1f2-4652-9e43-638d5eb61ea6",
   "metadata": {},
   "outputs": [],
   "source": [
    "im_source_sim = pd.read_csv(\"immigration/im_source_sim.csv\")\n",
    "im_source_sim.shape"
   ]
  },
  {
   "cell_type": "code",
   "execution_count": null,
   "id": "05cf5589-87eb-4fe6-8919-6e537f1b9c4a",
   "metadata": {},
   "outputs": [],
   "source": [
    "im_source_sim['search_history1'] = im_source_sim['search_history1'].replace('unint', 'unrel.')\n",
    "im_source_sim['search_history2'] = im_source_sim['search_history2'].replace('unint', 'unrel.')"
   ]
  },
  {
   "cell_type": "code",
   "execution_count": null,
   "id": "bd15e6ec-9570-452c-bd8a-d652d191dd2c",
   "metadata": {},
   "outputs": [],
   "source": [
    "im_source_sim.head()"
   ]
  },
  {
   "cell_type": "code",
   "execution_count": null,
   "id": "18611e4d-5735-4211-a84a-b97a496ef5be",
   "metadata": {},
   "outputs": [],
   "source": [
    "cc_source_sim = pd.read_csv(\"climate/cc_source_sim.csv\")\n",
    "cc_source_sim.shape"
   ]
  },
  {
   "cell_type": "code",
   "execution_count": null,
   "id": "d13dfca1-d647-4a7b-964a-691a2cf38491",
   "metadata": {},
   "outputs": [],
   "source": [
    "cc_source_sim['search_history1'] = cc_source_sim['search_history1'].replace('unint', 'unrel.')\n",
    "cc_source_sim['search_history2'] = cc_source_sim['search_history2'].replace('unint', 'unrel.')"
   ]
  },
  {
   "cell_type": "code",
   "execution_count": null,
   "id": "74e754ea-afc0-4a42-b10c-d8cd8acb4a31",
   "metadata": {},
   "outputs": [],
   "source": [
    "cc_source_sim.head()"
   ]
  },
  {
   "cell_type": "code",
   "execution_count": null,
   "id": "8ad0fc04-cd8d-4fae-9d74-a1a203d6aaf6",
   "metadata": {},
   "outputs": [],
   "source": [
    "im_source_sim.run_uid1.nunique(), cc_source_sim.run_uid1.nunique()"
   ]
  },
  {
   "cell_type": "code",
   "execution_count": null,
   "id": "434dba12-036d-408b-87e3-22e5c0afd710",
   "metadata": {},
   "outputs": [],
   "source": [
    "# inverted scores\n",
    "im_source_sim['irbo0.95_value'] = 1 - im_source_sim['rbo0.95_value']\n",
    "im_source_sim['irbo0.8_value'] = 1 - im_source_sim['rbo0.8_value']\n",
    "cc_source_sim['irbo0.95_value'] = 1 - cc_source_sim['rbo0.95_value']\n",
    "cc_source_sim['irbo0.8_value'] = 1 - cc_source_sim['rbo0.8_value']"
   ]
  },
  {
   "cell_type": "markdown",
   "id": "18ccbd72-01c5-4f9a-98c8-65797f22745e",
   "metadata": {},
   "source": [
    "### Source -  search history "
   ]
  },
  {
   "cell_type": "code",
   "execution_count": null,
   "id": "dbc0018c-06d6-4b53-a373-21ccdb40d8f5",
   "metadata": {
    "tags": []
   },
   "outputs": [],
   "source": [
    "fig, axes = plt.subplots(3, 4, figsize=(15, 15))\n",
    "\n",
    "issues = ['Immigration', 'Climate change']\n",
    "#im_user_inputs = ['pro', 'neutral', 'anti']\n",
    "im_user_inputs = ['anti', 'neutral', 'pro']\n",
    "#cc_user_inputs = ['high', 'neutral', 'low']\n",
    "cc_user_inputs = ['low', 'neutral', 'high']\n",
    "values = ['irbo0.95_value', 'irbo0.8_value']\n",
    "value_names = ['IRBO (p = 0.95)', 'IRBO (p = 0.8)']\n",
    "\n",
    "cbar_ax = fig.add_axes([0.15, 0.07, 0.7, 0.02]) \n",
    "\n",
    "\n",
    "for issue_index, issue in zip([0,2], issues):\n",
    "    if issue == 'Immigration':\n",
    "        df = im_source_sim\n",
    "        user_input_values = im_user_inputs\n",
    "        sh_order = ['anti', 'neutral', 'pro', 'mixed', 'unrel.', 'none']\n",
    "    elif issue == 'Climate change':\n",
    "        df = cc_source_sim\n",
    "        user_input_values = cc_user_inputs\n",
    "        sh_order = ['low', 'neutral', 'high', 'mixed', 'unrel.', 'none']\n",
    "\n",
    "    # rows\n",
    "    for i, user_input in enumerate(user_input_values):\n",
    "        df_filtered = df[(df['user_input1']==user_input)&(df['user_input2']==user_input)]\n",
    "\n",
    "        # columns\n",
    "        for j, value in enumerate(values):\n",
    "            column_index = j + issue_index\n",
    "            #print(issue, value, column_index, user_input, i)\n",
    "            ax = axes[i, column_index]\n",
    "\n",
    "            source_history = df_filtered.groupby(['search_history1', 'search_history2'])[value].mean().unstack()\n",
    "            source_history = source_history.reindex(index=sh_order, columns=sh_order)\n",
    "            mask = np.triu(np.ones_like(source_history, dtype=bool), k=1) # masking upper triangle, excl diagonal\n",
    "            plot = sns.heatmap(source_history, cmap=cmap, cbar=True, annot=True, fmt='.2f', ax=ax,\n",
    "                              vmin=0, vmax=1, cbar_ax = cbar_ax, mask=mask)\n",
    "            ax.set_ylabel('')\n",
    "            ax.set_xlabel('')\n",
    "        \n",
    "            if i == 0:\n",
    "                ax.set_title(value_names[j])  # Set column titles\n",
    "\n",
    "cbar = plt.colorbar(ax.collections[0], cax=cbar_ax, orientation='horizontal')\n",
    "cbar.set_label('', fontsize=14)  # Set the color bar label\n",
    "\n",
    "# row titles\n",
    "for i, ax in enumerate(axes):\n",
    "    ax[0].set_ylabel(im_user_inputs[i], fontsize=14)\n",
    "for i, ax in enumerate(axes):\n",
    "    ax[2].set_ylabel(cc_user_inputs[i], fontsize=14)\n",
    "                \n",
    "# Set section headers above the middle columns (0 and 1 and 2 and 3)\n",
    "fig.text(0.25, 1, 'Immigation', fontsize=14, ha='center')\n",
    "fig.text(0.75, 1, 'Climate Change', fontsize=14, ha='center')\n",
    "\n",
    "plt.tight_layout(rect=[0, 0.1, 1, 1])  # Adjust the layout to accommodate the color bar\n",
    "plt.savefig('sim_figures/sourcesim_hist_matrix.eps', format='eps', bbox_inches='tight')\n",
    "plt.show()"
   ]
  },
  {
   "cell_type": "markdown",
   "id": "c761875f-148d-46e4-9026-fddc3cdc0b48",
   "metadata": {},
   "source": [
    "## Content similarity"
   ]
  },
  {
   "cell_type": "code",
   "execution_count": null,
   "id": "068504f1-ee6d-4fb1-8591-fb5b79b1d070",
   "metadata": {},
   "outputs": [],
   "source": [
    "im_content_sim = pd.read_csv(\"immigration/im_content_sim.csv\")\n",
    "cc_content_sim = pd.read_csv(\"climate/cc_content_sim.csv\")\n",
    "print(im_content_sim.shape, cc_content_sim.shape)"
   ]
  },
  {
   "cell_type": "code",
   "execution_count": null,
   "id": "abda17e6-9cf5-4e18-9b4e-7942645f3a38",
   "metadata": {},
   "outputs": [],
   "source": [
    "im_content_sim['search_history1'] = im_content_sim['search_history1'].replace('unint', 'unrel.')\n",
    "im_content_sim['search_history2'] = im_content_sim['search_history2'].replace('unint', 'unrel.')"
   ]
  },
  {
   "cell_type": "code",
   "execution_count": null,
   "id": "2ef4503d-546b-471d-b8df-2d2507b0ad77",
   "metadata": {},
   "outputs": [],
   "source": [
    "cc_content_sim['search_history1'] = cc_content_sim['search_history1'].replace('unint', 'unrel.')\n",
    "cc_content_sim['search_history2'] = cc_content_sim['search_history2'].replace('unint', 'unrel.')"
   ]
  },
  {
   "cell_type": "code",
   "execution_count": null,
   "id": "a0ef9a9e-1879-437b-a01a-1eacb297b9af",
   "metadata": {},
   "outputs": [],
   "source": [
    "im_content_sim.head()"
   ]
  },
  {
   "cell_type": "code",
   "execution_count": null,
   "id": "b0920e9e-1d7d-46a2-b510-a9ccb1fd4cb0",
   "metadata": {},
   "outputs": [],
   "source": [
    "cc_content_sim.head()"
   ]
  },
  {
   "cell_type": "code",
   "execution_count": null,
   "id": "64317d50-c806-438b-9291-6126f69d1311",
   "metadata": {},
   "outputs": [],
   "source": [
    "# inverted scores\n",
    "im_content_sim['icos_value'] = 1 - im_content_sim['cos_value']\n",
    "cc_content_sim['icos_value'] = 1 - cc_content_sim['cos_value']"
   ]
  },
  {
   "cell_type": "markdown",
   "id": "02a3a2ef-de2c-467a-a7e7-b2994b582d09",
   "metadata": {},
   "source": [
    "### Content -  search history"
   ]
  },
  {
   "cell_type": "code",
   "execution_count": null,
   "id": "773136ac-4cca-4616-84d3-29f4746772fa",
   "metadata": {
    "tags": []
   },
   "outputs": [],
   "source": [
    "fig, axes = plt.subplots(3, 2, figsize=(10, 15))\n",
    "cbar_ax = fig.add_axes([0.15, 0.07, 0.7, 0.02]) \n",
    "\n",
    "for j, issue in enumerate(issues):\n",
    "    if issue == 'Immigration':\n",
    "        df = im_content_sim\n",
    "        user_input_values = im_user_inputs\n",
    "        sh_order = ['anti', 'neutral', 'pro', 'mixed', 'unrel.', 'none']\n",
    "    elif issue == 'Climate change':\n",
    "        df = cc_content_sim\n",
    "        user_input_values = cc_user_inputs\n",
    "        sh_order = ['low', 'neutral', 'high', 'mixed', 'unrel.', 'none']\n",
    "\n",
    "    for i, user_input in enumerate(user_input_values):\n",
    "        ax = axes[i, j] \n",
    "        \n",
    "        df_filtered = df[(df['user_input1']==user_input)&(df['user_input2']==user_input)]\n",
    "        content_history = df_filtered.groupby(['search_history1', 'search_history2'])['icos_value'].mean().unstack()\n",
    "        content_history = content_history.reindex(index=sh_order, columns=sh_order)\n",
    "        mask = np.triu(np.ones_like(content_history, dtype=bool), k=1) # masking upper triangle, excl diagonal\n",
    "        plot = sns.heatmap(content_history, cmap=cmap, cbar=True, annot=True, fmt='.2f', ax=ax,\n",
    "                       vmin=0, vmax=1, cbar_ax = cbar_ax, mask=mask)\n",
    "    \n",
    "        ax.set_ylabel('')\n",
    "        ax.set_xlabel('')\n",
    "        ax.set_ylabel(user_input, fontsize=14)\n",
    "        if i == 0:\n",
    "            ax.set_title(issue, fontsize=14)  # Set column titles\n",
    "            \n",
    "        \n",
    "cbar = plt.colorbar(ax.collections[0], cax=cbar_ax, orientation='horizontal')\n",
    "cbar.set_label('', fontsize=14)  # Set the color bar label\n",
    "plt.tight_layout(rect=[0, 0.1, 1, 1])  # Adjust the layout to accommodate the color bar\n",
    "plt.savefig('sim_figures/contentsim_hist_matrix.eps', format='eps', bbox_inches='tight')\n",
    "plt.show()"
   ]
  },
  {
   "cell_type": "markdown",
   "id": "155cfb1f-aae3-4c0d-94b0-8402d122067e",
   "metadata": {},
   "source": [
    "### Source -  user input"
   ]
  },
  {
   "cell_type": "code",
   "execution_count": null,
   "id": "3ae78455-9232-48c2-b4b8-c5658973b541",
   "metadata": {},
   "outputs": [],
   "source": [
    "# only comparisons of agents without browser history (clean slates)\n",
    "im_source_sim_none = im_source_sim[(im_source_sim['search_history1']=='none')&(im_source_sim['search_history2']=='none')]\n",
    "cc_source_sim_none = cc_source_sim[(cc_source_sim['search_history1']=='none')&(cc_source_sim['search_history2']=='none')]\n",
    "print(im_source_sim_none.run_uid1.nunique(), cc_source_sim_none.run_uid1.nunique())"
   ]
  },
  {
   "cell_type": "code",
   "execution_count": null,
   "id": "a5d5ef2e-a132-458c-9d20-c2d4eb0d58b5",
   "metadata": {},
   "outputs": [],
   "source": [
    "fig, axes = plt.subplots(1, 4, figsize=(15, 5))\n",
    "cbar_ax = fig.add_axes([0.15, 0.07, 0.7, 0.02]) \n",
    "\n",
    "for issue_index, issue in zip([0,2], issues):\n",
    "    if issue == 'Immigration':\n",
    "        df = im_source_sim_none\n",
    "        order = [\"anti\", \"neutral\", \"pro\"]\n",
    "    elif issue == 'Climate change':\n",
    "        df = cc_source_sim_none\n",
    "        order = [\"low\", \"neutral\", \"high\"]\n",
    "\n",
    "        \n",
    "    # columns\n",
    "    for j, value in enumerate(values):\n",
    "        column_index = j + issue_index\n",
    "        ax = axes[column_index]\n",
    "    \n",
    "        source_input = df.groupby(['user_input1', 'user_input2'])[value].mean().unstack()\n",
    "        source_input = source_input.reindex(index=order, columns=order)\n",
    "        mask = np.triu(np.ones_like(source_input, dtype=bool), k=1) # masking upper triangle, excl diagonal\n",
    "        plot = sns.heatmap(source_input, cmap=cmap, cbar=True, annot=True, fmt='.2f', ax=ax,\n",
    "                           vmin=0, vmax=1, cbar_ax = cbar_ax, mask=mask)\n",
    "        ax.set_ylabel('')\n",
    "        ax.set_xlabel('')\n",
    "        #ax.set_title(value_names[i], fontsize=14)\n",
    "        ax.set_title(value_names[j])\n",
    "\n",
    "\n",
    "cbar = plt.colorbar(ax.collections[0], cax=cbar_ax, orientation='horizontal')\n",
    "cbar.set_label('', fontsize=14)  # Set the color bar label\n",
    "                \n",
    "# Set section headers above the middle columns (0 and 1 and 2 and 3)\n",
    "fig.text(0.25, 1, 'Immigation', fontsize=14, ha='center')\n",
    "fig.text(0.75, 1, 'Climate Change', fontsize=14, ha='center')\n",
    "\n",
    "plt.tight_layout(rect=[0, 0.1, 1, 1])  # Adjust the layout to accommodate the color bar\n",
    "plt.savefig('sim_figures/sourcesim_input_matrix.eps', format='eps', bbox_inches='tight')\n",
    "plt.show()\n"
   ]
  },
  {
   "cell_type": "markdown",
   "id": "68001e1c-b5f8-4da4-863c-73e28e023d2b",
   "metadata": {},
   "source": [
    "### Content -  user input"
   ]
  },
  {
   "cell_type": "code",
   "execution_count": null,
   "id": "a5ddcca7-cd12-4c59-9c01-9be868f1f0bb",
   "metadata": {},
   "outputs": [],
   "source": [
    "# only comparisons of agents without browser history (clean slates)\n",
    "im_content_sim_none = im_content_sim[(im_content_sim['search_history1']=='none')&(im_content_sim['search_history2']=='none')]\n",
    "cc_content_sim_none = cc_content_sim[(cc_content_sim['search_history1']=='none')&(cc_content_sim['search_history2']=='none')]\n",
    "print(im_content_sim_none.run_uid1.nunique(), cc_content_sim_none.run_uid1.nunique())"
   ]
  },
  {
   "cell_type": "code",
   "execution_count": null,
   "id": "1dd7bdf8-292a-47e1-935e-73d0521dc33b",
   "metadata": {
    "tags": []
   },
   "outputs": [],
   "source": [
    "fig, axes = plt.subplots(1, 2, figsize=(10, 5))\n",
    "cbar_ax = fig.add_axes([0.15, 0.07, 0.7, 0.02]) \n",
    "\n",
    "for j, issue in enumerate(issues):\n",
    "    if issue == 'Immigration':\n",
    "        df = im_content_sim_none\n",
    "        order = [\"anti\", \"neutral\", \"pro\"]\n",
    "    elif issue == 'Climate change':\n",
    "        df = cc_content_sim_none\n",
    "        order = [\"low\", \"neutral\", \"high\"]\n",
    "        \n",
    "    ax = axes[j]\n",
    "    content_input = df.groupby(['user_input1', 'user_input2'])['icos_value'].mean().unstack()\n",
    "    content_input = content_input.reindex(index=order, columns=order)\n",
    "    mask = np.triu(np.ones_like(content_input, dtype=bool), k=1) # masking upper triangle, excl diagonal\n",
    "    sns.heatmap(content_input, cmap=cmap, cbar=True, annot=True, fmt='.2f', ax = ax,\n",
    "                vmin=0, vmax=1, cbar_ax = cbar_ax, mask=mask)\n",
    "    ax.set_ylabel('')\n",
    "    ax.set_xlabel('')\n",
    "    ax.set_title(issue, fontsize=14)\n",
    "\n",
    "cbar = plt.colorbar(ax.collections[0], cax=cbar_ax, orientation='horizontal')\n",
    "cbar.set_label('', fontsize=14)  # Set the color bar label\n",
    "plt.tight_layout(rect=[0, 0.1, 1, 1])  # Adjust the layout to accommodate the color bar\n",
    "plt.savefig('sim_figures/contentsim_input_matrix.eps', format='eps', bbox_inches='tight')\n",
    "plt.show()"
   ]
  },
  {
   "cell_type": "markdown",
   "id": "59a40ee9-5ad3-4b89-a704-fbbae024e09a",
   "metadata": {},
   "source": [
    "## Content + Source - User input (+ SDs)\n",
    "\n",
    "Values are the mean scores for user_input (across algorithmic curation conditions). Values in brackets is the standard deviation of the means of algorithmic curation conditions. The SD is (rounded) zero, indicating barely any variation in mean dissimilarity scores, therefore none can be attributed to algorithmic curation."
   ]
  },
  {
   "cell_type": "code",
   "execution_count": null,
   "id": "92240ec3-a85f-438f-91c9-e05496211aa9",
   "metadata": {},
   "outputs": [],
   "source": [
    "fig, axes = plt.subplots(1, 4, figsize=(15, 5))\n",
    "cbar_ax = fig.add_axes([0.15, 0.07, 0.7, 0.02]) \n",
    "value_names = ['IRBO (p = 0.8)', 'ICS']\n",
    "\n",
    "for issue_index, issue in zip([0,2], issues):\n",
    "    if issue == 'Immigration':\n",
    "        df = [im_source_sim, im_content_sim]\n",
    "        order = [\"anti\", \"neutral\", \"pro\"]\n",
    "    elif issue == 'Climate change':\n",
    "        df = [cc_source_sim, cc_content_sim]\n",
    "        order = [\"low\", \"neutral\", \"high\"]\n",
    "\n",
    "        \n",
    "    # columns\n",
    "    for j, value in enumerate(['irbo0.8_value', 'icos_value']):\n",
    "        column_index = j + issue_index\n",
    "        ax = axes[column_index]\n",
    "        \n",
    "        if value == 'irbo0.8_value':\n",
    "            source_input = df[0].groupby(['user_input1', 'user_input2'])[value].mean().unstack()\n",
    "            source_input = source_input.reindex(index=order, columns=order)\n",
    "            std_input = df[0].groupby(['user_input1','user_input2', 'search_history1', 'search_history2'])[value].mean().reset_index(name='mean')\n",
    "            std_input = std_input.groupby(['user_input1', 'user_input2'])['mean'].std().unstack().reindex(index=order, columns=order)\n",
    "            #print(std_input)\n",
    "        elif value == 'icos_value':\n",
    "            source_input = df[1].groupby(['user_input1', 'user_input2'])[value].mean().unstack()\n",
    "            source_input = source_input.reindex(index=order, columns=order)\n",
    "            std_input = df[1].groupby(['user_input1','user_input2', 'search_history1', 'search_history2'])[value].mean().reset_index(name='mean')\n",
    "            std_input = std_input.groupby(['user_input1', 'user_input2'])['mean'].std().unstack().reindex(index=order, columns=order)\n",
    "        mask = np.triu(np.ones_like(source_input, dtype=bool), k=1) # masking upper triangle, excl diagonal\n",
    "        plot = sns.heatmap(source_input, cmap=cmap, cbar=True, ax=ax,\n",
    "                           vmin=0, vmax=1, cbar_ax = cbar_ax, mask=mask)  #annot=True, fmt='.2f', annot_kws={\"size\": 8, \"mask\": mask})\n",
    "        \n",
    "        for i, index in enumerate(source_input.index):\n",
    "            for j2, column in enumerate(source_input.columns):\n",
    "                val = source_input.loc[index, column]\n",
    "                std_val = std_input.loc[index, column]\n",
    "                # do not annotate masked values\n",
    "                if not mask[i, j2]:\n",
    "                    ax.text(j2 + 0.5, i + 0.5, f\"{val:.2f}\\n({std_val:.2f})\", ha='center', va='center', fontsize=14)\n",
    "\n",
    "        ax.set_ylabel('')\n",
    "        ax.set_xlabel('')\n",
    "        ax.tick_params(axis='y',labelsize=14)\n",
    "        ax.tick_params(axis='x',labelsize=14)\n",
    "        #ax.set_title(value_names[i], fontsize=14)\n",
    "        ax.set_title(value_names[j], fontsize=15)\n",
    "\n",
    "\n",
    "cbar = plt.colorbar(ax.collections[0], cax=cbar_ax, orientation='horizontal')\n",
    "cbar.set_label('', fontsize=14)  # Set the color bar label\n",
    "                \n",
    "# Set section headers above the middle columns (0 and 1 and 2 and 3)\n",
    "fig.text(0.25, 1, 'Immigation', fontsize=15, ha='center')\n",
    "fig.text(0.75, 1, 'Climate Change', fontsize=15, ha='center')\n",
    "\n",
    "\n",
    "\n",
    "plt.tight_layout(rect=[0, 0.1, 1, 1])  # Adjust the layout to accommodate the color bar\n",
    "plt.savefig('sim_figures/sourcesim_input_matrix_std.eps', format='eps', bbox_inches='tight')\n",
    "plt.show()\n"
   ]
  },
  {
   "cell_type": "code",
   "execution_count": null,
   "id": "d4482de8-e803-4484-b0cc-f800e3df901b",
   "metadata": {},
   "outputs": [],
   "source": [
    "## Appendix figure: IRBO (p = 0.95) scores\n",
    "fig, ax = plt.subplots(1, 2, figsize=(8, 5))\n",
    "cbar_ax = fig.add_axes([0.15, 0.07, 0.7, 0.02])  # Adjust these values according to your needs\n",
    "\n",
    "\n",
    "for issue_index, issue in zip([0, 1], issues):  # Assuming only one value in the 'values' list\n",
    "    if issue == 'Immigration':\n",
    "        df = [im_source_sim, im_content_sim]\n",
    "        order = [\"anti\", \"neutral\", \"pro\"]\n",
    "    elif issue == 'Climate change':\n",
    "        df = [cc_source_sim, cc_content_sim]\n",
    "        order = [\"low\", \"neutral\", \"high\"]\n",
    "\n",
    "    # Assuming only one value in the 'values' list\n",
    "    value = 'irbo0.95_value'  # Change this according to your needs\n",
    "    \n",
    "    source_input = df[0].groupby(['user_input1', 'user_input2'])[value].mean().unstack()\n",
    "    source_input = source_input.reindex(index=order, columns=order)\n",
    "    std_input = df[0].groupby(['user_input1', 'user_input2', 'search_history1', 'search_history2'])[value].mean().reset_index(name='mean')\n",
    "    std_input = std_input.groupby(['user_input1', 'user_input2'])['mean'].std().unstack().reindex(index=order, columns=order)\n",
    "    \n",
    "    mask = np.triu(np.ones_like(source_input, dtype=bool), k=1)\n",
    "    plot = sns.heatmap(source_input, cmap='coolwarm', cbar=True, ax=ax[issue_index],\n",
    "                       vmin=0, vmax=1, cbar_ax=cbar_ax, mask=mask)\n",
    "    \n",
    "    for i, index in enumerate(source_input.index):\n",
    "        for j2, column in enumerate(source_input.columns):\n",
    "            val = source_input.loc[index, column]\n",
    "            std_val = std_input.loc[index, column]\n",
    "            if not mask[i, j2]:\n",
    "                ax[issue_index].text(j2 + 0.5, i + 0.5, f\"{val:.2f}\\n({std_val:.2f})\", ha='center', va='center', fontsize=14)\n",
    "\n",
    "    ax[issue_index].set_ylabel('')\n",
    "    ax[issue_index].set_xlabel('')\n",
    "    ax[issue_index].tick_params(axis='y',labelsize=14)\n",
    "    ax[issue_index].tick_params(axis='x',labelsize=14)\n",
    "    #ax[issue_index].set_title(value_names[issue_index])\n",
    "\n",
    "# Set section headers above the columns\n",
    "fig.text(0.25, 1, 'Immigration', fontsize=15, ha='center')\n",
    "fig.text(0.75, 1, 'Climate Change', fontsize=15, ha='center')\n",
    "\n",
    "cbar = plt.colorbar(ax[0].collections[0], cax=cbar_ax, orientation='horizontal')\n",
    "cbar.set_label('', fontsize=14)\n",
    "\n",
    "plt.tight_layout(rect=[0, 0.1, 1, 1])\n",
    "plt.savefig('sim_figures/sourcesim_input_matrix_std_irbo95.eps', format='eps', bbox_inches='tight')\n",
    "plt.show()\n"
   ]
  },
  {
   "cell_type": "markdown",
   "id": "eaff1e2b-17c3-420f-955d-14bc035a6468",
   "metadata": {},
   "source": [
    "### Appendix figure: Source + Content -- search history"
   ]
  },
  {
   "cell_type": "code",
   "execution_count": null,
   "id": "2fe4452d-be67-40b8-9dad-513bca313384",
   "metadata": {},
   "outputs": [],
   "source": [
    "fig, axes = plt.subplots(3, 4, figsize=(15, 15))\n",
    "cbar_ax = fig.add_axes([0.15, 0.07, 0.7, 0.02]) \n",
    "\n",
    "values = ['irbo0.8_value', 'icos_value']\n",
    "value_names = ['IRBO (p = 0.8)', 'ICS']\n",
    "for issue_index, issue in zip([0,2], issues):\n",
    "    if issue == 'Immigration':\n",
    "        df = [im_source_sim, im_content_sim]\n",
    "        user_input_values = im_user_inputs\n",
    "        sh_order = ['anti', 'neutral', 'pro', 'mixed', 'unrel.', 'none']\n",
    "    elif issue == 'Climate change':\n",
    "        df = [cc_source_sim, cc_content_sim]\n",
    "        user_input_values = cc_user_inputs\n",
    "        sh_order = ['low', 'neutral', 'high', 'mixed', 'unrel.', 'none']\n",
    "\n",
    "    # rows\n",
    "    for i, user_input in enumerate(user_input_values):   \n",
    "        #print(df_filtered.head())\n",
    "        # columns\n",
    "        for j, value in enumerate(values):\n",
    "            if value == 'irbo0.8_value':\n",
    "                tmp = df[0]  \n",
    "            elif value == 'icos_value':\n",
    "                tmp = df[1]\n",
    "            df_filtered = tmp[(tmp['user_input1']==user_input)&(tmp['user_input2']==user_input)]\n",
    "            column_index = j + issue_index\n",
    "            #print(issue, value, column_index, user_input, i)\n",
    "            ax = axes[i, column_index]\n",
    "\n",
    "            source_history = df_filtered.groupby(['search_history1', 'search_history2'])[value].mean().unstack()\n",
    "            source_history = source_history.reindex(index=sh_order, columns=sh_order)\n",
    "            mask = np.triu(np.ones_like(source_history, dtype=bool), k=1) # masking upper triangle, excl diagonal\n",
    "            plot = sns.heatmap(source_history, cmap=cmap, cbar=True, annot=True, fmt='.2f', annot_kws={\"size\":12}, ax=ax,\n",
    "                              vmin=0, vmax=1, cbar_ax = cbar_ax, mask=mask) #annot=True, fmt='.2f', annot_kws={\"size\": 8, \"mask\": mask})\n",
    "            ax.set_ylabel('')\n",
    "            ax.set_xlabel('')\n",
    "            ax.tick_params(axis='y',labelsize=12)\n",
    "            ax.tick_params(axis='x',labelsize=12)\n",
    "        \n",
    "            if i == 0:\n",
    "                ax.set_title(value_names[j], fontsize=15)  # Set column titles\n",
    "\n",
    "cbar = plt.colorbar(ax.collections[0], cax=cbar_ax, orientation='horizontal')\n",
    "cbar.set_label('', fontsize=14)  # Set the color bar label\n",
    "\n",
    "# row titles\n",
    "for i, ax in enumerate(axes):\n",
    "    ax[0].set_ylabel(im_user_inputs[i], fontsize=15)\n",
    "for i, ax in enumerate(axes):\n",
    "    ax[2].set_ylabel(cc_user_inputs[i], fontsize=15)\n",
    "                \n",
    "# Set section headers above the middle columns (0 and 1 and 2 and 3)\n",
    "fig.text(0.25, 1, 'Immigation', fontsize=15, ha='center')\n",
    "fig.text(0.75, 1, 'Climate Change', fontsize=15, ha='center')\n",
    "\n",
    "plt.tight_layout(rect=[0, 0.1, 1, 1])  # Adjust the layout to accommodate the color bar\n",
    "plt.savefig('sim_figures/sourcesim_hist_matrix_irbo_content.eps', format='eps', bbox_inches='tight')\n",
    "plt.show()"
   ]
  },
  {
   "cell_type": "markdown",
   "id": "1c8f20f1-9fa3-4b1c-9f8b-d94c65ad159b",
   "metadata": {},
   "source": [
    "## Query selection\n",
    "Compare the query selection amongst each other, per user input group. Sample = no search history."
   ]
  },
  {
   "cell_type": "markdown",
   "id": "4a3ff04a-3088-412d-8c91-a84422395c59",
   "metadata": {},
   "source": [
    "### Source similarity"
   ]
  },
  {
   "cell_type": "code",
   "execution_count": null,
   "id": "9f502ae3-e51b-4558-ae68-3b4b02898631",
   "metadata": {},
   "outputs": [],
   "source": [
    "im_source_sim = pd.merge(im_source_sim, im_html[['run_uid', 'test_num']], left_on='run_uid1', right_on='run_uid', how='left')\n",
    "im_source_sim.rename(columns={'test_num':'test_num1'}, inplace=True)\n",
    "im_source_sim = pd.merge(im_source_sim, im_html[['run_uid', 'test_num']], left_on='run_uid2', right_on='run_uid', how='left')\n",
    "im_source_sim.rename(columns={'test_num':'test_num2'}, inplace=True)"
   ]
  },
  {
   "cell_type": "code",
   "execution_count": null,
   "id": "1d3c82a4-281f-4d11-a2ee-eea52755613f",
   "metadata": {},
   "outputs": [],
   "source": [
    "im_source_sim.head()"
   ]
  },
  {
   "cell_type": "code",
   "execution_count": null,
   "id": "ee20fddc-bf32-4990-a9a6-cf87613cfd1e",
   "metadata": {},
   "outputs": [],
   "source": [
    "cc_source_sim = pd.merge(cc_source_sim, cc_html[['run_uid', 'test_num']], left_on='run_uid1', right_on='run_uid', how='left')\n",
    "cc_source_sim.rename(columns={'test_num':'test_num1'}, inplace=True)\n",
    "cc_source_sim = pd.merge(cc_source_sim, cc_html[['run_uid', 'test_num']], left_on='run_uid2', right_on='run_uid', how='left')\n",
    "cc_source_sim.rename(columns={'test_num':'test_num2'}, inplace=True)"
   ]
  },
  {
   "cell_type": "code",
   "execution_count": null,
   "id": "37fbd9ce-0c82-4be5-81df-e5ad4123198d",
   "metadata": {},
   "outputs": [],
   "source": [
    "cc_source_sim.head()"
   ]
  },
  {
   "cell_type": "code",
   "execution_count": null,
   "id": "e11317b4-c0ab-40e1-a53c-06a42fd28e3c",
   "metadata": {},
   "outputs": [],
   "source": [
    "# only comparisons of agents without browser history (clean slates)\n",
    "im_source_sim_none = im_source_sim[(im_source_sim['search_history1']=='none')&(im_source_sim['search_history2']=='none')]\n",
    "cc_source_sim_none = cc_source_sim[(cc_source_sim['search_history1']=='none')&(cc_source_sim['search_history2']=='none')]\n",
    "print(im_source_sim_none.run_uid1.nunique(), cc_source_sim_none.run_uid1.nunique())"
   ]
  },
  {
   "cell_type": "code",
   "execution_count": null,
   "id": "a5121513-f0e3-47e6-8cec-2b08ab30357c",
   "metadata": {},
   "outputs": [],
   "source": [
    "issues = ['Immigration', 'Climate change']\n",
    "#im_user_inputs = ['pro', 'neutral', 'anti']\n",
    "im_user_inputs = ['anti', 'neutral', 'pro']\n",
    "#cc_user_inputs = ['high', 'neutral', 'low']\n",
    "cc_user_inputs = ['low', 'neutral', 'high']\n",
    "values = ['irbo0.95_value', 'irbo0.8_value']\n",
    "value_names = ['IRBO (p = 0.95)', 'IRBO (p = 0.8)']"
   ]
  },
  {
   "cell_type": "code",
   "execution_count": null,
   "id": "5d071e7d-55d3-4058-a240-b65651940715",
   "metadata": {},
   "outputs": [],
   "source": [
    "fig, axes = plt.subplots(3, 4, figsize=(15, 15))\n",
    "cbar_ax = fig.add_axes([0.15, 0.07, 0.7, 0.02]) \n",
    "\n",
    "for issue_index, issue in zip([0,2], issues):\n",
    "    if issue == 'Immigration':\n",
    "        df = im_source_sim_none\n",
    "        user_input_values = im_user_inputs\n",
    "        #sh_order = ['anti', 'neutral', 'pro', 'mixed', 'unrel.', 'none']\n",
    "    elif issue == 'Climate change':\n",
    "        df = cc_source_sim_none\n",
    "        user_input_values = cc_user_inputs\n",
    "        #sh_order = ['low', 'neutral', 'high', 'mixed', 'unrel.', 'none']\n",
    "\n",
    "    # rows\n",
    "    for i, user_input in enumerate(user_input_values):\n",
    "        df_filtered = df[(df['user_input1']==user_input)&(df['user_input2']==user_input)]\n",
    "\n",
    "        # columns\n",
    "        for j, value in enumerate(values):\n",
    "            column_index = j + issue_index\n",
    "            #print(issue, value, column_index, user_input, i)\n",
    "            ax = axes[i, column_index]\n",
    "            \n",
    "            source_history = df_filtered.groupby(['test_num1', 'test_num2'])[value].mean().unstack()\n",
    "            #source_history = source_history.reindex(index=sh_order, columns=sh_order)\n",
    "            mask = np.triu(np.ones_like(source_history, dtype=bool), k=1) # masking upper triangle, excl diagonal\n",
    "            plot = sns.heatmap(source_history, cmap=cmap, cbar=True, annot=True, fmt='.2f', ax=ax,\n",
    "                              vmin=0, vmax=1, cbar_ax = cbar_ax, mask=mask)\n",
    "            ax.set_ylabel('')\n",
    "            ax.set_xlabel('')\n",
    "        \n",
    "            if i == 0:\n",
    "                ax.set_title(value_names[j])  # Set column titles\n",
    "\n",
    "cbar = plt.colorbar(ax.collections[0], cax=cbar_ax, orientation='horizontal')\n",
    "cbar.set_label('', fontsize=14)  # Set the color bar label\n",
    "\n",
    "# row titles\n",
    "for i, ax in enumerate(axes):\n",
    "    ax[0].set_ylabel(im_user_inputs[i], fontsize=14)\n",
    "for i, ax in enumerate(axes):\n",
    "    ax[2].set_ylabel(cc_user_inputs[i], fontsize=14)\n",
    "                \n",
    "# Set section headers above the middle columns (0 and 1 and 2 and 3)\n",
    "fig.text(0.25, 1, 'Immigation', fontsize=14, ha='center')\n",
    "fig.text(0.75, 1, 'Climate Change', fontsize=14, ha='center')\n",
    "\n",
    "plt.tight_layout(rect=[0, 0.1, 1, 1])  # Adjust the layout to accommodate the color bar\n",
    "plt.savefig('sim_figures/sourcesim_query_matrix.eps', format='eps', bbox_inches='tight')\n",
    "plt.show()"
   ]
  },
  {
   "cell_type": "markdown",
   "id": "675671ae-502d-42d6-b0c1-1fbf8b2f1225",
   "metadata": {},
   "source": [
    "### Content similarity"
   ]
  },
  {
   "cell_type": "code",
   "execution_count": null,
   "id": "4b9877d7-5e81-4687-af69-9101b480b340",
   "metadata": {},
   "outputs": [],
   "source": [
    "im_content_sim = pd.merge(im_content_sim, im_html[['run_uid', 'test_num']], left_on='run_uid1', right_on='run_uid', how='left')\n",
    "im_content_sim.rename(columns={'test_num':'test_num1'}, inplace=True)\n",
    "im_content_sim = pd.merge(im_content_sim, im_html[['run_uid', 'test_num']], left_on='run_uid2', right_on='run_uid', how='left')\n",
    "im_content_sim.rename(columns={'test_num':'test_num2'}, inplace=True)"
   ]
  },
  {
   "cell_type": "code",
   "execution_count": null,
   "id": "aaccd774-0d53-4615-8cac-0f5e71e2bb5e",
   "metadata": {},
   "outputs": [],
   "source": [
    "im_content_sim.head()"
   ]
  },
  {
   "cell_type": "code",
   "execution_count": null,
   "id": "e0067b06-71ff-47b4-a1bd-f7b34b2232aa",
   "metadata": {},
   "outputs": [],
   "source": [
    "cc_content_sim = pd.merge(cc_content_sim, cc_html[['run_uid', 'test_num']], left_on='run_uid1', right_on='run_uid', how='left')\n",
    "cc_content_sim.rename(columns={'test_num':'test_num1'}, inplace=True)\n",
    "cc_content_sim = pd.merge(cc_content_sim, cc_html[['run_uid', 'test_num']], left_on='run_uid2', right_on='run_uid', how='left')\n",
    "cc_content_sim.rename(columns={'test_num':'test_num2'}, inplace=True)"
   ]
  },
  {
   "cell_type": "code",
   "execution_count": null,
   "id": "e37c7f2a-443b-4104-998f-5b3f558de610",
   "metadata": {},
   "outputs": [],
   "source": [
    "cc_content_sim.head()"
   ]
  },
  {
   "cell_type": "code",
   "execution_count": null,
   "id": "62345030-e445-4018-824c-7cf43d7db2fb",
   "metadata": {},
   "outputs": [],
   "source": [
    "# only comparisons of agents without browser history (clean slates)\n",
    "im_content_sim_none = im_content_sim[(im_content_sim['search_history1']=='none')&(im_content_sim['search_history2']=='none')]\n",
    "cc_content_sim_none = cc_content_sim[(cc_content_sim['search_history1']=='none')&(cc_content_sim['search_history2']=='none')]\n",
    "print(im_content_sim_none.run_uid1.nunique(), cc_content_sim_none.run_uid1.nunique())"
   ]
  },
  {
   "cell_type": "code",
   "execution_count": null,
   "id": "60065d33-360a-4118-b501-8d1ee84de9bd",
   "metadata": {},
   "outputs": [],
   "source": [
    "fig, axes = plt.subplots(3, 2, figsize=(10, 15))\n",
    "cbar_ax = fig.add_axes([0.15, 0.07, 0.7, 0.02]) \n",
    "\n",
    "for j, issue in enumerate(issues):\n",
    "    if issue == 'Immigration':\n",
    "        df = im_content_sim_none.copy()\n",
    "        user_input_values = im_user_inputs\n",
    "        order = [\"anti\", \"neutral\", \"pro\"]\n",
    "    elif issue == 'Climate change':\n",
    "        df = cc_content_sim_none.copy()\n",
    "        user_input_values = cc_user_inputs\n",
    "        order = [\"low\", \"neutral\", \"high\"]\n",
    "\n",
    "    for i, user_input in enumerate(user_input_values):\n",
    "        ax = axes[i, j] \n",
    "        \n",
    "        df_filtered = df[(df['user_input1']==user_input)&(df['user_input2']==user_input)]\n",
    "        content_history = df_filtered.groupby(['test_num1', 'test_num2'])['icos_value'].mean().unstack()\n",
    "        \n",
    "        mask = np.triu(np.ones_like(content_history, dtype=bool), k=1) # masking upper triangle, excl diagonal\n",
    "        plot = sns.heatmap(content_history, cmap=cmap, cbar=True, annot=True, fmt='.2f', ax=ax,\n",
    "                       vmin=0, vmax=1, cbar_ax = cbar_ax, mask=mask)\n",
    "    \n",
    "        ax.set_ylabel('')\n",
    "        ax.set_xlabel('')\n",
    "        ax.set_ylabel(user_input, fontsize=14)\n",
    "        if i == 0:\n",
    "            ax.set_title(issue, fontsize=14)  # Set column titles\n",
    "            \n",
    "        \n",
    "cbar = plt.colorbar(ax.collections[0], cax=cbar_ax, orientation='horizontal')\n",
    "cbar.set_label('', fontsize=14)  # Set the color bar label\n",
    "plt.tight_layout(rect=[0, 0.1, 1, 1])  # Adjust the layout to accommodate the color bar\n",
    "plt.savefig('sim_figures/contentsim_query_matrix.eps', format='eps', bbox_inches='tight')\n",
    "plt.show()"
   ]
  },
  {
   "cell_type": "markdown",
   "id": "9a58d2a7-2d80-457f-b7d0-47b1d5780ccc",
   "metadata": {},
   "source": [
    "## Query selection -- Content + User -- Dot plot\n",
    "Compare the disimilarity among its own SERPs with the dissimilarity with other SERPS\n"
   ]
  },
  {
   "cell_type": "code",
   "execution_count": null,
   "id": "e3f342dc-1f07-49dd-9903-a30a7985a5a9",
   "metadata": {},
   "outputs": [],
   "source": [
    "values = ['irbo0.8_value', 'icos_value']\n",
    "results_df = []\n",
    "for user_input in im_user_inputs:\n",
    "    #print(user_input)\n",
    "    for value in values:\n",
    "        #print(value)\n",
    "        if value == 'irbo0.8_value':\n",
    "            df = im_source_sim_none.copy()\n",
    "        elif value == 'icos_value':\n",
    "            df = im_content_sim_none.copy()\n",
    "        df_filtered = df[(df['user_input1'] == user_input)&(df['user_input2'] == user_input)].copy()\n",
    "\n",
    "        df_filtered.loc[(df_filtered['test_num1'] == df_filtered['test_num2']), 'group'] = 'Same query'\n",
    "        df_filtered.loc[(df_filtered['test_num1'] != df_filtered['test_num2']), 'group'] = 'Different query'\n",
    "        #print(df_filtered)\n",
    "        query_selection = df_filtered.groupby('group')[value].mean().reset_index(name='value')\n",
    "        query_selection['issue'] = 'Immigration'\n",
    "        query_selection['value_type'] = value\n",
    "        query_selection['user_input'] = user_input\n",
    "    \n",
    "        \n",
    "        #print(query_selection)\n",
    "        results_df.append(query_selection)\n",
    "        \n",
    "for user_input in cc_user_inputs:\n",
    "    #print(user_input)\n",
    "    for value in values:\n",
    "        #print(value)\n",
    "        if value == 'irbo0.8_value':\n",
    "            df = cc_source_sim_none.copy()\n",
    "        elif value == 'icos_value':\n",
    "            df = cc_content_sim_none.copy()\n",
    "    \n",
    "        df_filtered = df[(df['user_input1'] == user_input) & (df['user_input2'] == user_input)].copy()\n",
    "        \n",
    "        df_filtered.loc[(df_filtered['test_num1'] == df_filtered['test_num2']), 'group'] = 'Same query'\n",
    "        df_filtered.loc[(df_filtered['test_num1'] != df_filtered['test_num2']), 'group'] = 'Different query'\n",
    "        #print(df_filtered)\n",
    "        query_selection = df_filtered.groupby('group')[value].mean().reset_index(name='value')\n",
    "        query_selection['issue'] = 'Climate Change'\n",
    "        query_selection['value_type'] = value\n",
    "        query_selection['user_input'] = user_input\n",
    "    \n",
    "        \n",
    "        print(query_selection)\n",
    "        results_df.append(query_selection)"
   ]
  },
  {
   "cell_type": "code",
   "execution_count": null,
   "id": "3115421e-2974-4d59-969c-ac2a820670f8",
   "metadata": {},
   "outputs": [],
   "source": [
    "results_df = pd.concat(results_df)"
   ]
  },
  {
   "cell_type": "code",
   "execution_count": null,
   "id": "431c7ad9-f17e-4c4f-a4d6-a0d27abf9723",
   "metadata": {},
   "outputs": [],
   "source": [
    "fig, axes = plt.subplots(1, 4, figsize=(15, 5), sharey=True)\n",
    "#cbar_ax = fig.add_axes([0.15, 0.07, 0.7, 0.02]) \n",
    "value_names = ['IRBO (p = 0.8)', 'ICS']\n",
    "issues = ['Immigration', 'Climate Change']\n",
    "for issue_index, issue in zip([0,2], issues):\n",
    "\n",
    "    # columns\n",
    "    for j, value in enumerate(values):\n",
    "        column_index = j + issue_index\n",
    "        ax = axes[column_index]\n",
    "        \n",
    "        df = results_df[(results_df['value_type']==value)&(results_df['issue']==issue)]\n",
    "        plot = sns.pointplot(data=df, x = 'user_input', y='value', hue='group', kind='point', ci=None, join=False, ax=ax, legend=False)\n",
    "        ax.legend_.remove()\n",
    "        ax.set_ylabel('')\n",
    "        ax.set_xlabel('')\n",
    "        ax.tick_params(axis='y',labelsize=12)\n",
    "        ax.tick_params(axis='x',labelsize=12)\n",
    "        #ax.set_title(value_names[i], fontsize=14)\n",
    "        ax.set_title(value_names[j], fontsize=15)\n",
    "        ax.set_ylim(0, 1)\n",
    "        if column_index == 0:\n",
    "            handles, labels = ax.get_legend_handles_labels()\n",
    "        \n",
    "# Set section headers above the middle columns (0 and 1 and 2 and 3)\n",
    "fig.text(0.25, 1, 'Immigation', fontsize=15, ha='center')\n",
    "fig.text(0.75, 1, 'Climate Change', fontsize=15, ha='center')\n",
    "fig.legend(handles, labels, title = 'Query selection', loc='upper center', bbox_to_anchor=(0.5, 0.05), ncol=2, fontsize=12, title_fontsize=12)\n",
    "\n",
    "plt.tight_layout(rect=[0, 0.1, 1, 1])  # Adjust the layout to accommodate the color bar\n",
    "plt.savefig('sim_figures/query_dotplot.eps', format='eps', bbox_inches='tight')\n",
    "plt.show()\n"
   ]
  }
 ],
 "metadata": {
  "kernelspec": {
   "display_name": "Python 3 (ipykernel)",
   "language": "python",
   "name": "python3"
  },
  "language_info": {
   "codemirror_mode": {
    "name": "ipython",
    "version": 3
   },
   "file_extension": ".py",
   "mimetype": "text/x-python",
   "name": "python",
   "nbconvert_exporter": "python",
   "pygments_lexer": "ipython3",
   "version": "3.9.5"
  }
 },
 "nbformat": 4,
 "nbformat_minor": 5
}
